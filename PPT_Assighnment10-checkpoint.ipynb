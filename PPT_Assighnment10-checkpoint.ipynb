{
 "cells": [
  {
   "cell_type": "markdown",
   "id": "2a3a24db",
   "metadata": {},
   "source": [
    "<aside>\n",
    "💡 **Question 1**\n",
    "\n",
    "Given an integer `n`, return *`true` if it is a power of three. Otherwise, return `false`*.\n",
    "\n",
    "An integer `n` is a power of three, if there exists an integer `x` such that `n == 3x`.\n",
    "\n",
    "**Example 1:**\n",
    "\n",
    "```\n",
    "Input: n = 27\n",
    "Output: true\n",
    "Explanation: 27 = 33\n",
    "```\n",
    "\n",
    "**Example 2:**\n",
    "\n",
    "```\n",
    "Input: n = 0\n",
    "Output: false\n",
    "Explanation: There is no x where 3x = 0.\n",
    "\n",
    "```\n",
    "\n",
    "**Example 3:**\n",
    "\n",
    "</aside>"
   ]
  },
  {
   "cell_type": "code",
   "execution_count": 1,
   "id": "9522a43f",
   "metadata": {},
   "outputs": [
    {
     "name": "stdout",
     "output_type": "stream",
     "text": [
      "************* Test Case 1 ****************\n",
      "True\n",
      "***************** Test Case 2 **************\n",
      "False\n",
      "***************** Test Case 2 ****************\n",
      "False\n"
     ]
    }
   ],
   "source": [
    "def power_of_3(n):\n",
    "  if n <= 0:\n",
    "    return False\n",
    "  while n % 3 == 0:\n",
    "    n /= 3\n",
    "  return n == 1\n",
    "\n",
    "###Driver Code\n",
    "print(\"************* Test Case 1 ****************\")\n",
    "n1 = 27\n",
    "res1 = power_of_3(n1)\n",
    "print(res1)\n",
    "print(\"***************** Test Case 2 **************\")\n",
    "n2 = 0\n",
    "res2 = power_of_3(n2)\n",
    "print(res2)\n",
    "print(\"***************** Test Case 2 ****************\")\n",
    "n3 = -1\n",
    "res3 = power_of_3(n3)\n",
    "print(res3)"
   ]
  },
  {
   "cell_type": "markdown",
   "id": "ee4bf84e",
   "metadata": {},
   "source": [
    "<aside>\n",
    "💡 **Question 2**\n",
    "\n",
    "You have a list `arr` of all integers in the range `[1, n]` sorted in a strictly increasing order. Apply the following algorithm on `arr`:\n",
    "\n",
    "- Starting from left to right, remove the first number and every other number afterward until you reach the end of the list.\n",
    "- Repeat the previous step again, but this time from right to left, remove the rightmost number and every other number from the remaining numbers.\n",
    "- Keep repeating the steps again, alternating left to right and right to left, until a single number remains.\n",
    "\n",
    "Given the integer `n`, return *the last number that remains in* `arr`.\n",
    "\n",
    "**Example 1:**\n",
    "\n",
    "```\n",
    "Input: n = 9\n",
    "Output: 6\n",
    "Explanation:\n",
    "arr = [1, 2,3, 4,5, 6,7, 8,9]\n",
    "arr = [2,4, 6,8]\n",
    "arr = [2, 6]\n",
    "arr = [6]\n",
    "\n",
    "```\n",
    "\n",
    "**Example 2:**\n",
    "    \n",
    "    Input: n = 1\n",
    "    Output: 1\n",
    "\n",
    "</aside>"
   ]
  },
  {
   "cell_type": "code",
   "execution_count": 2,
   "id": "78d2a5d0",
   "metadata": {},
   "outputs": [
    {
     "name": "stdout",
     "output_type": "stream",
     "text": [
      "6\n"
     ]
    }
   ],
   "source": [
    "def remove_ele(n): \n",
    "  termination = {1:1, 2:2, 3:2}\n",
    "  if n in termination:\n",
    "    return termination[n]\n",
    "  elif n%4 == 0 or n%4 == 1:\n",
    "    return remove_ele(n//4) * 4 - 2\n",
    "  else:\n",
    "    return remove_ele(n//4) * 4\n",
    "# Driver Code\n",
    "arr = [1, 2, 3, 4, 5, 6, 7, 8, 9]\n",
    "n = len(arr)\n",
    "res = remove_ele(n)\n",
    "print(res)"
   ]
  },
  {
   "cell_type": "markdown",
   "id": "829b8e74",
   "metadata": {},
   "source": [
    "<aside>\n",
    "💡 **Question 3**\n",
    "\n",
    "****Given a set represented as a string, write a recursive code to print all subsets of it. The subsets can be printed in any order.\n",
    "\n",
    "**Example 1:**\n",
    "\n",
    "Input :  set = “abc”\n",
    "\n",
    "Output : { “”, “a”, “b”, “c”, “ab”, “ac”, “bc”, “abc”}\n",
    "\n",
    "**Example 2:**\n",
    "\n",
    "Input : set = “abcd”\n",
    "\n",
    "Output : { “”, “a” ,”ab” ,”abc” ,”abcd”, “abd” ,”ac” ,”acd”, “ad” ,”b”, “bc” ,”bcd” ,”bd” ,”c” ,”cd” ,”d” }\n",
    "\n",
    "</aside>"
   ]
  },
  {
   "cell_type": "code",
   "execution_count": 3,
   "id": "5922b299",
   "metadata": {},
   "outputs": [
    {
     "name": "stdout",
     "output_type": "stream",
     "text": [
      "Output: { \"\" \"d\" \"c\" \"cd\" \"b\" \"bd\" \"bc\" \"bcd\" \"a\" \"ad\" \"ac\" \"acd\" \"ab\" \"abd\" \"abc\" \"abcd\" }\n"
     ]
    }
   ],
   "source": [
    "def print_subsets(s, subset=\"\"):\n",
    "    if len(s) == 0:\n",
    "        print(\"\\\"\" + subset + \"\\\"\", end=\" \")\n",
    "    else:\n",
    "        # Recursive call without including the current character\n",
    "        print_subsets(s[1:], subset)\n",
    "        \n",
    "        # Recursive call including the current character\n",
    "        print_subsets(s[1:], subset + s[0])\n",
    "\n",
    "# Driver Code\n",
    "set_str = \"abcd\"\n",
    "print(\"Output: {\", end=\" \")\n",
    "print_subsets(set_str)\n",
    "print(\"}\")"
   ]
  },
  {
   "cell_type": "markdown",
   "id": "049436ae",
   "metadata": {},
   "source": [
    "<aside>\n",
    "💡 **Question 4**\n",
    "\n",
    "Given a string calculate length of the string using recursion.\n",
    "\n",
    "**Examples:**\n",
    "Input : str = \"abcd\"\n",
    "Output :4\n",
    "\n",
    "Input : str = \"GEEKSFORGEEKS\"\n",
    "Output :13\n",
    "</aside>"
   ]
  },
  {
   "cell_type": "code",
   "execution_count": 4,
   "id": "287ce8ba",
   "metadata": {},
   "outputs": [
    {
     "name": "stdout",
     "output_type": "stream",
     "text": [
      "Length of the string: 4\n"
     ]
    }
   ],
   "source": [
    "def calculate_length(s):\n",
    "    if s == \"\":\n",
    "        return 0\n",
    "    else:\n",
    "        return 1 + calculate_length(s[1:])\n",
    "\n",
    "# Driver Code\n",
    "string = \"abcd\"\n",
    "length = calculate_length(string)\n",
    "print(\"Length of the string:\", length)"
   ]
  },
  {
   "cell_type": "markdown",
   "id": "1871d643",
   "metadata": {},
   "source": [
    "<aside>\n",
    "💡 **Question 5**\n",
    "\n",
    "We are given a string S, we need to find count of all contiguous substrings starting and ending with same character.\n",
    "\n",
    "**Examples :**\n",
    "    \n",
    "    Input  : S = \"abcab\"\n",
    "Output : 7\n",
    "There are 15 substrings of \"abcab\"\n",
    "a, ab, abc, abca, abcab, b, bc, bca\n",
    "bcab, c, ca, cab, a, ab, b\n",
    "Out of the above substrings, there\n",
    "are 7 substrings : a, abca, b, bcab,\n",
    "c, a and b.\n",
    "\n",
    "Input  : S = \"aba\"\n",
    "Output : 4\n",
    "The substrings are a, b, a and aba\n",
    "\n",
    "</aside>"
   ]
  },
  {
   "cell_type": "code",
   "execution_count": 6,
   "id": "806f3536",
   "metadata": {},
   "outputs": [
    {
     "name": "stdout",
     "output_type": "stream",
     "text": [
      "Count of contiguous substr: 7\n"
     ]
    }
   ],
   "source": [
    "def count_contiguous_substr(S):\n",
    "    count = 0\n",
    "    n = len(S)\n",
    "    \n",
    "    # Iterate over all possible substrings\n",
    "    for i in range(n):\n",
    "        for j in range(i, n):\n",
    "            # Check if the substring starts and ends with the same character\n",
    "            if S[i] == S[j]:\n",
    "                count += 1\n",
    "    \n",
    "    return count\n",
    "\n",
    "# Driver code\n",
    "S = \"abcab\"\n",
    "count = count_contiguous_substr(S)\n",
    "print(\"Count of contiguous substr:\", count)"
   ]
  },
  {
   "cell_type": "markdown",
   "id": "48971a7d",
   "metadata": {},
   "source": [
    "<aside>\n",
    "💡 **Question 6**\n",
    "\n",
    "The [tower of Hanoi](https://en.wikipedia.org/wiki/Tower_of_Hanoi) is a famous puzzle where we have three rods and **N** disks. The objective of the puzzle is to move the entire stack to another rod. You are given the number of discs **N**. Initially, these discs are in the rod 1. You need to print all the steps of discs movement so that all the discs reach the 3rd rod. Also, you need to find the total moves.**Note:** The discs are arranged such that the **top disc is numbered 1** and the **bottom-most disc is numbered N**. Also, all the discs have **different sizes** and a bigger disc **cannot** be put on the top of a smaller disc. Refer the provided link to get a better clarity about the puzzle.\n",
    "\n",
    "**Example 1:**\n",
    "\n",
    "```\n",
    "Input:\n",
    "N = 2\n",
    "Output:\n",
    "move disk 1 from rod 1 to rod 2\n",
    "move disk 2 from rod 1 to rod 3\n",
    "move disk 1 from rod 2 to rod 3\n",
    "3\n",
    "Explanation:For N=2 , steps will be\n",
    "as follows in the example and total\n",
    "3 steps will be taken.\n",
    "```\n",
    "\n",
    "**Example 2:**\n",
    "    \n",
    "    Input:\n",
    "    N = 3\n",
    "    Output:\n",
    "    move disk 1 from rod 1 to rod 3\n",
    "    move disk 2 from rod 1 to rod 2\n",
    "    move disk 1 from rod 3 to rod 2\n",
    "    move disk 3 from rod 1 to rod 3\n",
    "    move disk 1 from rod 2 to rod 1\n",
    "    move disk 2 from rod 2 to rod 3\n",
    "    move disk 1 from rod 1 to rod 3\n",
    "7\n",
    "Explanation:For N=3 , steps will be\n",
    "as follows in the example and total\n",
    "7 steps will be taken.\n",
    "\n",
    "</aside>"
   ]
  },
  {
   "cell_type": "code",
   "execution_count": 7,
   "id": "946976f0",
   "metadata": {},
   "outputs": [
    {
     "name": "stdout",
     "output_type": "stream",
     "text": [
      "Move disk 1 from rod 1 to rod 2\n",
      "Move disk 2 from rod 1 to rod 3\n",
      "Move disk 1 from rod 2 to rod 3\n",
      "Total moves: 3\n"
     ]
    }
   ],
   "source": [
    "def tower_of_hanoi(n, source, auxiliary, destination):\n",
    "    if n == 1:\n",
    "        print(\"Move disk 1 from rod\", source, \"to rod\", destination)\n",
    "        return 1\n",
    "    else:\n",
    "        moves = tower_of_hanoi(n-1, source, destination, auxiliary)\n",
    "        print(\"Move disk\", n, \"from rod\", source, \"to rod\", destination)\n",
    "        moves += 1\n",
    "        moves += tower_of_hanoi(n-1, auxiliary, source, destination)\n",
    "        return moves\n",
    "\n",
    "# Driver code\n",
    "N = 2\n",
    "total_moves = tower_of_hanoi(N, 1, 2, 3)\n",
    "print(\"Total moves:\", total_moves)"
   ]
  },
  {
   "cell_type": "markdown",
   "id": "69bda260",
   "metadata": {},
   "source": [
    "<aside>\n",
    "💡 **Question 7**\n",
    "\n",
    "Given a string **str**, the task is to print all the permutations of **str**. A **permutation** is an arrangement of all or part of a set of objects, with regard to the order of the arrangement. For instance, the words ‘bat’ and ‘tab’ represents two distinct permutation (or arrangements) of a similar three letter word.\n",
    "\n",
    "**Examples:**\n",
    "\n",
    "> Input: str = “cd”\n",
    "> \n",
    "> \n",
    "> **Output:** cd dc\n",
    "> \n",
    "> **Input:** str = “abb”\n",
    "> \n",
    "> **Output:** abb abb bab bba bab bba\n",
    "> \n",
    "</aside>"
   ]
  },
  {
   "cell_type": "code",
   "execution_count": 8,
   "id": "dd9bd219",
   "metadata": {},
   "outputs": [
    {
     "name": "stdout",
     "output_type": "stream",
     "text": [
      "abb\n",
      "abb\n",
      "bab\n",
      "bba\n",
      "bab\n",
      "bba\n"
     ]
    }
   ],
   "source": [
    "def permutations(str):\n",
    "    # Base case: If the string has only one character, return it as a single permutation\n",
    "    if len(str) == 1:\n",
    "        return [str]\n",
    "\n",
    "    # Recursive case: Generate permutations by fixing each character at the beginning and permuting the rest\n",
    "    result = []\n",
    "    for i in range(len(str)):\n",
    "        first_char = str[i]\n",
    "        rest = str[:i] + str[i+1:]\n",
    "        # Recursively generate permutations for the rest of the string\n",
    "        rest_permutations = permutations(rest)\n",
    "        # Append the first character to each permutation of the rest of the string\n",
    "        for perm in rest_permutations:\n",
    "            result.append(first_char + perm)\n",
    "\n",
    "    return result\n",
    "\n",
    "# Driver code\n",
    "str = \"abb\"\n",
    "perms = permutations(str)\n",
    "for perm in perms:\n",
    "    print(perm)"
   ]
  },
  {
   "cell_type": "markdown",
   "id": "400aa434",
   "metadata": {},
   "source": [
    "<aside>\n",
    "💡 **Question 8**\n",
    "\n",
    "Given a string, count total number of consonants in it. A consonant is an English alphabet character that is not vowel (a, e, i, o and u). Examples of constants are b, c, d, f, and g.\n",
    "\n",
    "**Examples :**\n",
    "    \n",
    "    Input : abc de\n",
    "    Output : 3\n",
    "    There are three consonants b, c and d.\n",
    "\n",
    "    Input : geeksforgeeks portal\n",
    "    Output : 12\n",
    "\n",
    "</aside>"
   ]
  },
  {
   "cell_type": "code",
   "execution_count": 9,
   "id": "6c4232ae",
   "metadata": {},
   "outputs": [
    {
     "name": "stdout",
     "output_type": "stream",
     "text": [
      "3\n"
     ]
    }
   ],
   "source": [
    "def count_conson(string):\n",
    "    vowels = ['a', 'e', 'i', 'o', 'u']\n",
    "    count = 0\n",
    "\n",
    "    for char in string.lower():\n",
    "        if char.isalpha() and char not in vowels:\n",
    "            count += 1\n",
    "\n",
    "    return count\n",
    "\n",
    "# Driver code\n",
    "string = \"abc de\"\n",
    "conson_count = count_conson(string)\n",
    "print(conson_count)"
   ]
  },
  {
   "cell_type": "code",
   "execution_count": null,
   "id": "a57ae728",
   "metadata": {},
   "outputs": [],
   "source": []
  }
 ],
 "metadata": {
  "kernelspec": {
   "display_name": "Python 3 (ipykernel)",
   "language": "python",
   "name": "python3"
  },
  "language_info": {
   "codemirror_mode": {
    "name": "ipython",
    "version": 3
   },
   "file_extension": ".py",
   "mimetype": "text/x-python",
   "name": "python",
   "nbconvert_exporter": "python",
   "pygments_lexer": "ipython3",
   "version": "3.9.12"
  }
 },
 "nbformat": 4,
 "nbformat_minor": 5
}
