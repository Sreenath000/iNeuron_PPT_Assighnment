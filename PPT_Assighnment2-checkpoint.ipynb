{
 "cells": [
  {
   "cell_type": "markdown",
   "id": "39d50c89",
   "metadata": {},
   "source": [
    "Question 1\n",
    "\n",
    "Given an integer array nums of 2n integers, group these integers into n pairs (a1, b1), (a2, b2),..., (an, bn) such that the sum of min(ai, bi) for all i is maximized. Return the maximized sum.\n",
    "\n",
    "Example 1:\n",
    "Input: nums = [1,4,3,2]\n",
    "Output: 4\n",
    "\n",
    "💡 **Explanation:** All possible pairings (ignoring the ordering of elements) are:\n",
    "\n",
    "1. (1, 4), (2, 3) -> min(1, 4) + min(2, 3) = 1 + 2 = 3\n",
    "2. (1, 3), (2, 4) -> min(1, 3) + min(2, 4) = 1 + 2 = 3\n",
    "3. (1, 2), (3, 4) -> min(1, 2) + min(3, 4) = 1 + 3 = 4\n",
    "So the maximum possible sum is 4\n"
   ]
  },
  {
   "cell_type": "code",
   "execution_count": 3,
   "id": "860e8d2c",
   "metadata": {},
   "outputs": [
    {
     "name": "stdout",
     "output_type": "stream",
     "text": [
      "(4, [(1, 2), (3, 4)])\n"
     ]
    }
   ],
   "source": [
    "def maxi_sum(arr):\n",
    "    arr.sort()  # First Sort the array in ascending order\n",
    "    maxi_sum = 0\n",
    "    arr1 =[]\n",
    "    for i in range(0, len(arr), 2):\n",
    "      arr2 = arr[i],arr[i+1]\n",
    "      maxi_sum += min(arr[i],arr[i+1])\n",
    "      arr1.append(arr2)\n",
    "    return maxi_sum,arr1\n",
    "###Driver Code\n",
    "inpu = [1,4,3,2]\n",
    "reslt = maxi_sum(nums)\n",
    "print(reslt)"
   ]
  },
  {
   "cell_type": "markdown",
   "id": "b2385d2b",
   "metadata": {},
   "source": [
    "Question 2\n",
    "\n",
    "Alice has n candies, where the ith candy is of type candyType[i]. Alice noticed that she started to gain weight, so she visited a doctor. \n",
    "\n",
    "The doctor advised Alice to only eat n / 2 of the candies she has (n is always even). Alice likes her candies very much, and she wants to eat the maximum number of different types of candies while still following the doctor's advice. \n",
    "\n",
    "Given the integer array candyType of length n, return the maximum number of different types of candies she can eat if she only eats n / 2 of them.\n",
    "\n",
    "Example 1:\n",
    "Input: candyType = [1,1,2,2,3,3]\n",
    "Output: 3\n",
    "\n",
    "Explanation: Alice can only eat 6 / 2 = 3 candies. Since there are only 3 types, she can eat one of each type."
   ]
  },
  {
   "cell_type": "markdown",
   "id": "a0f22892",
   "metadata": {},
   "source": [
    "Brute Force Approach"
   ]
  },
  {
   "cell_type": "code",
   "execution_count": 8,
   "id": "d5c24fd9",
   "metadata": {},
   "outputs": [
    {
     "name": "stdout",
     "output_type": "stream",
     "text": [
      "################# Test Case 1 ##################\n",
      "She  have types of candies are 3\n",
      "she can eat the candies  are 3\n",
      "####################### Test Case 2 ##################\n",
      "She  have types of candies are 3\n",
      "she can eat the candies  are 2\n",
      "##################### Test Case 3 #####################\n",
      "She  have types of candies are 2\n",
      "she can eat the candies  are 2\n",
      "########################### Test Case 4 ####################\n",
      "She  have types of candies are 1\n",
      "she can eat the candies  are 2\n"
     ]
    }
   ],
   "source": [
    "def distribute_candy(arr):\n",
    "  unique_candy = 0\n",
    "  for i in range(len(arr)):\n",
    "    for j in range(0,i):\n",
    "      if arr[i] == arr[j]:\n",
    "        break\n",
    "    else:\n",
    "      unique_candy += 1\n",
    "  print(f'She  have types of candies are {unique_candy}')\n",
    "  print(f'she can eat the candies  are {len(arr)//2}')\n",
    "  \n",
    "### Driver Code\n",
    "print(\"################# Test Case 1 ##################\")\n",
    "Candy1 = [1,1,2,2,3,3]\n",
    "res1 = distribute_candy(Candy1)\n",
    "print(\"####################### Test Case 2 ##################\")\n",
    "Candy2 = [1,1,2,3]\n",
    "res2 = distribute_candy(Candy2)\n",
    "print(\"##################### Test Case 3 #####################\")\n",
    "Candy3 = [5,5,5,3]\n",
    "res3 = distribute_candy(Candy3)\n",
    "print(\"########################### Test Case 4 ####################\")\n",
    "Candy4 = [4,4,4,4]\n",
    "res4 = distribute_candy(Candy4)"
   ]
  },
  {
   "cell_type": "markdown",
   "id": "ea33bb7a",
   "metadata": {},
   "source": [
    "Time Complexity is O(nˆ2)\n",
    "\n",
    "\n",
    "\n",
    "Optimal Solution Better than above solution"
   ]
  },
  {
   "cell_type": "code",
   "execution_count": 9,
   "id": "bc43e500",
   "metadata": {},
   "outputs": [
    {
     "name": "stdout",
     "output_type": "stream",
     "text": [
      "@@@@@@@@@@@@@@@@@@@@@ Test Case 1 @@@@@@@@@@@@@@@@@@@@@@@\n",
      "3\n",
      "@@@@@@@@@@@@@@@@@@@@@@@@@@@ Test Case 2 @@@@@@@@@@@@@@@@@@@@@@\n",
      "2\n",
      "@@@@@@@@@@@@@@@@@@@@@@@@@@@@@@@ Test Case 3 @@@@@@@@@@@@@@@@@@@@@@@@@@\n",
      "1\n"
     ]
    }
   ],
   "source": [
    "def distribute_candy(arr):\n",
    "  arr.sort()\n",
    "  unique_candy = 1\n",
    "  for i in range(1,len(arr)):\n",
    "    if arr[i] != arr[i-1]:\n",
    "      unique_candy +=1\n",
    "    if unique_candy == len(arr)//2:\n",
    "      break\n",
    "  return min(unique_candy, len(arr) // 2)\n",
    "### Driver Code\n",
    "print(\"@@@@@@@@@@@@@@@@@@@@@ Test Case 1 @@@@@@@@@@@@@@@@@@@@@@@\")\n",
    "Candy1 = [1,1,2,2,3,3]\n",
    "res1 = distribute_candy(Candy1)\n",
    "print(res1)\n",
    "print(\"@@@@@@@@@@@@@@@@@@@@@@@@@@@ Test Case 2 @@@@@@@@@@@@@@@@@@@@@@\")\n",
    "Candy2 = [1,1,2,3]\n",
    "res2 = distribute_candy(Candy2)\n",
    "print(res2)\n",
    "print(\"@@@@@@@@@@@@@@@@@@@@@@@@@@@@@@@ Test Case 3 @@@@@@@@@@@@@@@@@@@@@@@@@@\")\n",
    "Candy3 = [3,3,3,3]\n",
    "res3 = distribute_candy(Candy3)\n",
    "print(res3)"
   ]
  },
  {
   "cell_type": "markdown",
   "id": "6e4066a1",
   "metadata": {},
   "source": [
    "Time Complexity for above problem is O(n)"
   ]
  },
  {
   "cell_type": "markdown",
   "id": "c0369248",
   "metadata": {},
   "source": [
    "Question 3\n",
    "\n",
    "We define a harmonious array as an array where the difference between its maximum value\n",
    "and its minimum value is exactly 1.\n",
    "\n",
    "Given an integer array nums, return the length of its longest harmonious subsequence\n",
    "among all its possible subsequences.\n",
    "\n",
    "A subsequence of an array is a sequence that can be derived from the array by deleting some or no elements without changing the order of the remaining elements.\n",
    "\n",
    "Example 1:\n",
    "Input: nums = [1,3,2,2,5,2,3,7]\n",
    "Output: 5\n",
    "\n",
    "Explanation: The longest harmonious subsequence is [3,2,2,2,3]."
   ]
  },
  {
   "cell_type": "code",
   "execution_count": 10,
   "id": "756c8efc",
   "metadata": {},
   "outputs": [
    {
     "name": "stdout",
     "output_type": "stream",
     "text": [
      "####################### Test Case 1 ###########################\n",
      "5\n",
      "############################ Test Case 2 #######################\n",
      "2\n",
      "######################## Test Case 3 ########################\n",
      "0\n"
     ]
    }
   ],
   "source": [
    "def subarray(arr):\n",
    "  hashmap = {}\n",
    "  max_length = 0\n",
    "  ## Inorder to  Build a frequency map\n",
    "  for num in arr:\n",
    "    hashmap[num] = hashmap.get(num,0)+1\n",
    "  # For Calculate length of harmonious subsequence\n",
    "  for num in hashmap:\n",
    "    if num+1 in hashmap:\n",
    "      length = hashmap[num] + hashmap[num + 1]\n",
    "      max_length = max(max_length, length)\n",
    "  return max_length\n",
    "### Driver Code\n",
    "print(\"####################### Test Case 1 ###########################\")\n",
    "nums = [1,3,2,2,5,2,3,7]\n",
    "res = subarray(nums)\n",
    "print(res)\n",
    "print(\"############################ Test Case 2 #######################\")\n",
    "nums1 = [1,2,3,4]\n",
    "res1 = subarray(nums1)\n",
    "print(res1)\n",
    "print(\"######################## Test Case 3 ########################\")\n",
    "nums2 =[5,5,5,5]\n",
    "res2 = subarray(nums2)\n",
    "print(res2)"
   ]
  },
  {
   "cell_type": "markdown",
   "id": "b28458ed",
   "metadata": {},
   "source": [
    "optimised solution :"
   ]
  },
  {
   "cell_type": "code",
   "execution_count": 11,
   "id": "9802f0fc",
   "metadata": {},
   "outputs": [
    {
     "name": "stdout",
     "output_type": "stream",
     "text": [
      "######################## Test Case 1 ####################\n",
      "5\n",
      "######################## Test Case 2 ####################\n",
      "2\n",
      "######################## Test Case 3 ###################\n",
      "0\n"
     ]
    }
   ],
   "source": [
    "def subarray(nums):\n",
    "  nums.sort()  # Sort the array in ascending order\n",
    "  left = 0\n",
    "  right = 0\n",
    "  max_length = 0\n",
    "        \n",
    "  while right < len(nums):\n",
    "    if nums[right] - nums[left] == 1:\n",
    "      max_length = max(max_length, right - left + 1)\n",
    "    if nums[right] - nums[left] <= 1:\n",
    "      right += 1\n",
    "    else:\n",
    "      left += 1\n",
    "  return max_length\n",
    "### Driver Code\n",
    "print(\"######################## Test Case 1 ####################\")\n",
    "nums = [1,3,2,2,5,2,3,7]\n",
    "res = subarray(nums)\n",
    "print(res)\n",
    "print(\"######################## Test Case 2 ####################\")\n",
    "nums1 = [1,2,3,4]\n",
    "res1 = subarray(nums1)\n",
    "print(res1)\n",
    "print(\"######################## Test Case 3 ###################\")\n",
    "nums2 =[2,2,2,2]\n",
    "res2 = subarray(nums2)\n",
    "print(res2)"
   ]
  },
  {
   "cell_type": "markdown",
   "id": "0a017d44",
   "metadata": {},
   "source": [
    "Time Complexity is O(nlogn)"
   ]
  },
  {
   "cell_type": "markdown",
   "id": "75ed8654",
   "metadata": {},
   "source": [
    "Question 4\n",
    "\n",
    "You have a long flowerbed in which some of the plots are planted, and some are not.\n",
    "However, flowers cannot be planted in adjacent plots.\n",
    "Given an integer array flowerbed containing 0's and 1's, where 0 means empty and 1 means not empty, and an integer n, return true if n new flowers can be planted in the flowerbed without violating the no-adjacent-flowers rule and false otherwise.\n",
    "\n",
    "Example 1:\n",
    "Input: flowerbed = [1,0,0,0,1], n = 1\n",
    "Output: true"
   ]
  },
  {
   "cell_type": "code",
   "execution_count": 12,
   "id": "2af591cd",
   "metadata": {},
   "outputs": [
    {
     "name": "stdout",
     "output_type": "stream",
     "text": [
      "######################## Test Case 1 #######################\n",
      "True\n",
      "####################### Test Case 2 #########################\n",
      "False\n"
     ]
    }
   ],
   "source": [
    "def plantflowerbed(arr,ni):\n",
    "  i =0\n",
    "  n = len(arr)\n",
    "  count = 0\n",
    "  while i < n:\n",
    "    if arr[i]==0:\n",
    "      if (i == 0 or arr[i-1] == 0) and (i == n-1 or arr[i+1] == 0):\n",
    "        arr[i] = 1\n",
    "        count += 1\n",
    "        i += 2\n",
    "      else:\n",
    "        i += 1\n",
    "    else:\n",
    "      i += 2\n",
    "  if count == ni:\n",
    "    return True\n",
    "  else:\n",
    "    return False\n",
    "### Driver Code\n",
    "print(\"######################## Test Case 1 #######################\")\n",
    "flowerbed1 = [1,0,0,0,1]\n",
    "n1 = 1\n",
    "res1 = plantflowerbed(flowerbed1,n1)\n",
    "print(res1)\n",
    "print(\"####################### Test Case 2 #########################\")\n",
    "flowerbed2 = [1,0,0,0,1]\n",
    "n2 = 2\n",
    "res2 = plantflowerbed(flowerbed2,n2)\n",
    "print(res2)"
   ]
  },
  {
   "cell_type": "code",
   "execution_count": 13,
   "id": "64874aea",
   "metadata": {},
   "outputs": [
    {
     "name": "stdout",
     "output_type": "stream",
     "text": [
      "####################### Test Case 1 #####################\n",
      "True\n",
      "###################### Test Case 2 #####################\n",
      "False\n",
      "###################### Test Case 3 ######################\n",
      "True\n"
     ]
    }
   ],
   "source": [
    "def plantflowerbed(flowerbed, n):\n",
    "    i = 0\n",
    "    count = 0\n",
    "    while i < len(flowerbed):\n",
    "        if flowerbed[i] == 0:\n",
    "            if (i == 0 or flowerbed[i-1] == 0) and (i == len(flowerbed)-1 or flowerbed[i+1] == 0 if i+1 < len(flowerbed) else 0):\n",
    "                flowerbed[i] = 1\n",
    "                count += 1\n",
    "                i += 2\n",
    "            else:\n",
    "                i += 1\n",
    "        else:\n",
    "            i += 1\n",
    "    if count >= n:\n",
    "        return True\n",
    "    else:\n",
    "        return False\n",
    "\n",
    "### Driver Code\n",
    "print(\"####################### Test Case 1 #####################\")\n",
    "flowerbed1 = [1,0,0,0,1]\n",
    "n1 = 1\n",
    "res1 = plantflowerbed(flowerbed1,n1)\n",
    "print(res1)\n",
    "print(\"###################### Test Case 2 #####################\")\n",
    "flowerbed2 = [1,0,0,0,1]\n",
    "n2 = 2\n",
    "res2 = plantflowerbed(flowerbed2,n2)\n",
    "print(res2)\n",
    "### Driver Code\n",
    "print(\"###################### Test Case 3 ######################\")\n",
    "flowerbed1 = [0,0,1,0,0]\n",
    "n1 = 1\n",
    "res1 = plantflowerbed(flowerbed1,n1)\n",
    "print(res1)"
   ]
  },
  {
   "cell_type": "markdown",
   "id": "e2b65d7b",
   "metadata": {},
   "source": [
    "Question 5\n",
    "\n",
    "Given an integer array nums, find three numbers whose product is maximum and return the maximum product.\n",
    "\n",
    "Example 1:\n",
    "Input: nums = [1,2,3]\n",
    "Output: 6"
   ]
  },
  {
   "cell_type": "code",
   "execution_count": 14,
   "id": "f370a926",
   "metadata": {},
   "outputs": [
    {
     "name": "stdout",
     "output_type": "stream",
     "text": [
      "6\n"
     ]
    }
   ],
   "source": [
    "def max_prod(arr):\n",
    "    arr.sort()\n",
    "    n = len(arr)\n",
    "    max_prod = float('-inf')\n",
    "\n",
    "    for i in range(0, len(arr)):\n",
    "        l = i + 1\n",
    "        r = n - 1\n",
    "        while l < r:\n",
    "            product = arr[i] * arr[l] * arr[r]\n",
    "            max_prod = max(max_prod, product)\n",
    "            if product < max_prod:\n",
    "                l += 1\n",
    "            else:\n",
    "                r -= 1\n",
    "\n",
    "    return max_prod\n",
    "\n",
    "# Driver Code\n",
    "nums = [1, 2, 3]\n",
    "res = max_prod(nums)\n",
    "print(res)"
   ]
  },
  {
   "cell_type": "markdown",
   "id": "8bc835db",
   "metadata": {},
   "source": [
    "Time Complexity is O(nˆ2)"
   ]
  },
  {
   "cell_type": "markdown",
   "id": "4346dec4",
   "metadata": {},
   "source": [
    "Question 6\n",
    "\n",
    "Given an array of integers nums which is sorted in ascending order, and an integer target,\n",
    "write a function to search target in nums. If target exists, then return its index. Otherwise,\n",
    "return -1.\n",
    "\n",
    "You must write an algorithm with O(log n) runtime complexity.\n",
    "\n",
    "Input: nums = [-1,0,3,5,9,12], target = 9\n",
    "Output: 4\n",
    "\n",
    "Explanation: 9 exists in nums and its index is 4"
   ]
  },
  {
   "cell_type": "code",
   "execution_count": 15,
   "id": "463a2969",
   "metadata": {},
   "outputs": [
    {
     "name": "stdout",
     "output_type": "stream",
     "text": [
      "4\n"
     ]
    }
   ],
   "source": [
    "def find_targ(arr,target):\n",
    "  left = 0\n",
    "  right = len(arr)-1\n",
    "\n",
    "  while left <= right:\n",
    "    mid = left + (right-left)//2\n",
    "\n",
    "    if arr[mid] == target:\n",
    "      return mid\n",
    "\n",
    "    elif arr[mid] < target:\n",
    "      left = mid + 1\n",
    "\n",
    "    else:\n",
    "      right = mid - 1 \n",
    "  return -1\n",
    "###Driver Code\n",
    "nums = [-1,0,3,5,9,12]\n",
    "target1 = 9\n",
    "res = find_targ(nums,target1)\n",
    "print(res)    "
   ]
  },
  {
   "cell_type": "markdown",
   "id": "23b70952",
   "metadata": {},
   "source": [
    "Question 7\n",
    "\n",
    "An array is monotonic if it is either monotone increasing or monotone decreasing.\n",
    "\n",
    "An array nums is monotone increasing if for all i <= j, nums[i] <= nums[j]. An array nums is\n",
    "monotone decreasing if for all i <= j, nums[i] >= nums[j].\n",
    "\n",
    "Given an integer array nums, return true if the given array is monotonic, or false otherwise.\n",
    "\n",
    "Example 1:\n",
    "Input: nums = [1,2,2,3]\n",
    "Output: true"
   ]
  },
  {
   "cell_type": "code",
   "execution_count": 16,
   "id": "704da5c1",
   "metadata": {},
   "outputs": [
    {
     "name": "stdout",
     "output_type": "stream",
     "text": [
      "True\n"
     ]
    }
   ],
   "source": [
    "def mono_sequn(arr):\n",
    "  for i in range(len(arr)-1):\n",
    "    if arr[i] <= arr[i+1]:\n",
    "      continue\n",
    "    else:\n",
    "      return False\n",
    "  return  True\n",
    "### Driver Code\n",
    "nums = [1,2,2,3]\n",
    "res = mono_sequn(nums)\n",
    "print(res)"
   ]
  },
  {
   "cell_type": "markdown",
   "id": "08213932",
   "metadata": {},
   "source": [
    "Time Complexity for above problem is O(n)\n",
    "\n",
    "Space Complexity for above problem is O(1)"
   ]
  },
  {
   "cell_type": "markdown",
   "id": "0b4231df",
   "metadata": {},
   "source": [
    "Question 8\n",
    "\n",
    "You are given an integer array nums and an integer k.\n",
    "\n",
    "In one operation, you can choose any index i where 0 <= i < nums.length and change nums[i] to nums[i] + x where x is an integer from the range [-k, k]. You can apply this operation at most once for each index i.\n",
    "\n",
    "The score of nums is the difference between the maximum and minimum elements in nums.\n",
    "\n",
    "Return the minimum score of nums after applying the mentioned operation at most once for each index in it.\n",
    "\n",
    "Example 1:\n",
    "Input: nums = [1], k = 0\n",
    "Output: 0\n",
    "\n",
    "Explanation: The score is max(nums) - min(nums) = 1 - 1 = 0."
   ]
  },
  {
   "cell_type": "code",
   "execution_count": 17,
   "id": "fdfea1c6",
   "metadata": {},
   "outputs": [
    {
     "name": "stdout",
     "output_type": "stream",
     "text": [
      "0\n"
     ]
    }
   ],
   "source": [
    "def mini_score(nums, k):\n",
    "    mini = min(nums)\n",
    "    maxi = max(nums)\n",
    "    \n",
    "    initial_score = maxi - mini\n",
    "    \n",
    "    if initial_score <= 2 * k:\n",
    "        return 0\n",
    "    \n",
    "    modified_max = maxi - k\n",
    "    modified_min = mini + k\n",
    "    \n",
    "    new_maxi = max(modified_max, max(nums) - k)\n",
    "    new_mini = min(modified_min, min(nums) + k)\n",
    "    \n",
    "    return new_maxi - new_mini\n",
    "# Driver Code\n",
    "nums = [1]\n",
    "k = 0\n",
    "result = mini_score(nums, k)\n",
    "print(result)"
   ]
  },
  {
   "cell_type": "code",
   "execution_count": null,
   "id": "d20692fc",
   "metadata": {},
   "outputs": [],
   "source": []
  }
 ],
 "metadata": {
  "kernelspec": {
   "display_name": "Python 3 (ipykernel)",
   "language": "python",
   "name": "python3"
  },
  "language_info": {
   "codemirror_mode": {
    "name": "ipython",
    "version": 3
   },
   "file_extension": ".py",
   "mimetype": "text/x-python",
   "name": "python",
   "nbconvert_exporter": "python",
   "pygments_lexer": "ipython3",
   "version": "3.9.12"
  }
 },
 "nbformat": 4,
 "nbformat_minor": 5
}
