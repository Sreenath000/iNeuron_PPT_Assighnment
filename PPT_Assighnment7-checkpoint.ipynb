{
 "cells": [
  {
   "cell_type": "markdown",
   "id": "d60ae1b3",
   "metadata": {},
   "source": [
    "<aside>\n",
    "💡 **Question 1**\n",
    "\n",
    "Given two strings s and t, *determine if they are isomorphic*.\n",
    "\n",
    "Two strings s and t are isomorphic if the characters in s can be replaced to get t.\n",
    "\n",
    "All occurrences of a character must be replaced with another character while preserving the order of characters. No two characters may map to the same character, but a character may map to itself.\n",
    "\n",
    "**Example 1:**\n",
    "\n",
    "**Input:** s = \"egg\", t = \"add\"\n",
    "\n",
    "**Output:** true\n",
    "\n",
    "</aside>"
   ]
  },
  {
   "cell_type": "code",
   "execution_count": 1,
   "id": "5672285d",
   "metadata": {},
   "outputs": [
    {
     "name": "stdout",
     "output_type": "stream",
     "text": [
      "True\n"
     ]
    }
   ],
   "source": [
    "def Isisomorphic(s,t):\n",
    "  if len(s) != len(t):\n",
    "    return False\n",
    "  s_to_t = {}\n",
    "  t_to_s = {}\n",
    "  for c1,c2 in zip(s,t):\n",
    "    if c1 not in s_to_t and c2 not in t_to_s:\n",
    "      s_to_t[c1] = c2\n",
    "      t_to_s[c2] = c1\n",
    "    elif c1 in s_to_t and c2 in t_to_s:\n",
    "      if s_to_t[c1] != c2 or t_to_s[c2] != c1:\n",
    "        return False\n",
    "    else:\n",
    "      return False\n",
    "\n",
    "  return True\n",
    "###Driver Code\n",
    "s = \"egg\"\n",
    "t = \"add\"\n",
    "res = Isisomorphic(s,t)\n",
    "print(res)"
   ]
  },
  {
   "cell_type": "markdown",
   "id": "cbabc8b8",
   "metadata": {},
   "source": [
    "<aside>\n",
    "💡 **Question 2**\n",
    "\n",
    "Given a string num which represents an integer, return true *if* num *is a **strobogrammatic number***.\n",
    "\n",
    "A **strobogrammatic number** is a number that looks the same when rotated 180 degrees (looked at upside down).\n",
    "\n",
    "**Example 1:**\n",
    "\n",
    "**Input:** num = \"69\"\n",
    "\n",
    "**Output:**\n",
    "\n",
    "true\n",
    "\n",
    "</aside>"
   ]
  },
  {
   "cell_type": "code",
   "execution_count": 2,
   "id": "234ed279",
   "metadata": {},
   "outputs": [
    {
     "name": "stdout",
     "output_type": "stream",
     "text": [
      "True\n"
     ]
    }
   ],
   "source": [
    "def isStrobogrammaticnum(num):\n",
    "    left = 0\n",
    "    right = len(num) - 1\n",
    "    strobogrammaticnum_pairs = {'0':'0', '1':'1', '6':'9', '8':'8', '9':'6'}\n",
    "\n",
    "    while left <= right:\n",
    "        ch1 = num[left]\n",
    "        ch2 = num[right]\n",
    "\n",
    "        if ch1 not in strobogrammaticnum_pairs or strobogrammaticnum_pairs[ch1] != ch2:\n",
    "            return False\n",
    "\n",
    "        left += 1\n",
    "        right -= 1\n",
    "\n",
    "    return True\n",
    "### Driver Code\n",
    "num = \"69\"\n",
    "result = isStrobogrammaticnum(num)\n",
    "print(result) "
   ]
  },
  {
   "cell_type": "markdown",
   "id": "73bc0a80",
   "metadata": {},
   "source": [
    "<aside>\n",
    "💡 **Question 3**\n",
    "\n",
    "Given two non-negative integers, num1 and num2 represented as string, return *the sum of* num1 *and* num2 *as a string*.\n",
    "\n",
    "You must solve the problem without using any built-in library for handling large integers (such as BigInteger). You must also not convert the inputs to integers directly.\n",
    "\n",
    "**Example 1:**\n",
    "\n",
    "**Input:** num1 = \"11\", num2 = \"123\"\n",
    "\n",
    "**Output:**\n",
    "\n",
    "\"134\"\n",
    "\n",
    "</aside>"
   ]
  },
  {
   "cell_type": "code",
   "execution_count": 3,
   "id": "5e9cea60",
   "metadata": {},
   "outputs": [
    {
     "name": "stdout",
     "output_type": "stream",
     "text": [
      "134\n"
     ]
    }
   ],
   "source": [
    "def addStrings(num1, num2):\n",
    "    i = len(num1) - 1\n",
    "    j = len(num2) - 1\n",
    "    carry = 0\n",
    "    result = []\n",
    "\n",
    "    while i >= 0 or j >= 0 or carry > 0:\n",
    "        digit1 = int(num1[i]) if i >= 0 else 0\n",
    "        digit2 = int(num2[j]) if j >= 0 else 0\n",
    "        total = digit1 + digit2 + carry\n",
    "        digit = total % 10\n",
    "        carry = total // 10\n",
    "        result.append(str(digit))\n",
    "        i -= 1\n",
    "        j -= 1\n",
    "\n",
    "    result.reverse()\n",
    "    return ''.join(result)\n",
    "\n",
    "###Driver Code\n",
    "num1 = \"11\"\n",
    "num2 = \"123\"\n",
    "result = addStrings(num1, num2)\n",
    "print(result)"
   ]
  },
  {
   "cell_type": "markdown",
   "id": "6bca05ce",
   "metadata": {},
   "source": [
    "<aside>\n",
    "💡 **Question 4**\n",
    "\n",
    "Given a string s, reverse the order of characters in each word within a sentence while still preserving whitespace and initial word order.\n",
    "\n",
    "**Example 1:**\n",
    "\n",
    "**Input:** s = \"Let's take LeetCode contest\"\n",
    "\n",
    "**Output:** \"s'teL ekat edoCteeL tsetnoc\"\n",
    "\n",
    "</aside>"
   ]
  },
  {
   "cell_type": "code",
   "execution_count": 4,
   "id": "941ca135",
   "metadata": {},
   "outputs": [
    {
     "name": "stdout",
     "output_type": "stream",
     "text": [
      "s'teL ekat edoCteeL tsetnoc\n"
     ]
    }
   ],
   "source": [
    "def reverseWords(s):\n",
    "    # Split the sentence into words\n",
    "    words = s.split()\n",
    "\n",
    "    # Reverse each word\n",
    "    reversed_words = [word[::-1] for word in words]\n",
    "\n",
    "    # Join the words in reverse order together with whitespace\n",
    "    reversed_sentence = ' '.join(reversed_words)\n",
    "\n",
    "    return reversed_sentence\n",
    "\n",
    "###Driver Code\n",
    "s = \"Let's take LeetCode contest\"\n",
    "reversed_sentence = reverseWords(s)\n",
    "print(reversed_sentence)"
   ]
  },
  {
   "cell_type": "markdown",
   "id": "3133dd8d",
   "metadata": {},
   "source": [
    "<aside>\n",
    "💡 **Question 5**\n",
    "\n",
    "Given a string s and an integer k, reverse the first k characters for every 2k characters counting from the start of the string.\n",
    "\n",
    "If there are fewer than k characters left, reverse all of them. If there are less than 2k but greater than or equal to k characters, then reverse the first k characters and leave the other as original.\n",
    "\n",
    "**Example 1:**\n",
    "\n",
    "**Input:** s = \"abcdefg\", k = 2\n",
    "\n",
    "**Output:**\n",
    "\n",
    "\"bacdfeg\"\n",
    "\n",
    "</aside>"
   ]
  },
  {
   "cell_type": "code",
   "execution_count": 5,
   "id": "c4340e57",
   "metadata": {},
   "outputs": [
    {
     "name": "stdout",
     "output_type": "stream",
     "text": [
      "bacdfeg\n"
     ]
    }
   ],
   "source": [
    "def reverseStr(s, k):\n",
    "    # Convert the string to a list to make it mutable\n",
    "    chars = list(s)\n",
    "    \n",
    "    # Iterate through the string in steps of 2k\n",
    "    for i in range(0, len(chars), 2 * k):\n",
    "        # Reverse the first k characters\n",
    "        chars[i:i+k] = chars[i:i+k][::-1]\n",
    "    reversed_str = ''.join(chars)\n",
    "    \n",
    "    return reversed_str\n",
    "\n",
    "###Driver Code\n",
    "s = \"abcdefg\"\n",
    "k = 2\n",
    "reversed_str = reverseStr(s, k)\n",
    "print(reversed_str)"
   ]
  },
  {
   "cell_type": "markdown",
   "id": "537a4d18",
   "metadata": {},
   "source": [
    "<aside>\n",
    "💡 **Question 6**\n",
    "\n",
    "Given two strings s and goal, return true *if and only if* s *can become* goal *after some number of **shifts** on* s.\n",
    "\n",
    "A **shift** on s consists of moving the leftmost character of s to the rightmost position.\n",
    "\n",
    "- For example, if s = \"abcde\", then it will be \"bcdea\" after one shift.\n",
    "\n",
    "**Example 1:**\n",
    "\n",
    "**Input:** s = \"abcde\", goal = \"cdeab\"\n",
    "\n",
    "**Output:**\n",
    "\n",
    "true\n",
    "\n",
    "</aside>"
   ]
  },
  {
   "cell_type": "code",
   "execution_count": 6,
   "id": "7eff451e",
   "metadata": {},
   "outputs": [
    {
     "name": "stdout",
     "output_type": "stream",
     "text": [
      "True\n"
     ]
    }
   ],
   "source": [
    "def isShiftedString(s, goal):\n",
    "    # Check if goal is a substring of s + s\n",
    "    return len(s) == len(goal) and goal in (s + s)\n",
    "\n",
    "###Driver Code\n",
    "s = \"abcde\"\n",
    "goal = \"cdeab\"\n",
    "result = isShiftedString(s, goal)\n",
    "print(result)"
   ]
  },
  {
   "cell_type": "markdown",
   "id": "c5bd7b10",
   "metadata": {},
   "source": [
    "<aside>\n",
    "💡 **Question 7**\n",
    "\n",
    "Given two strings s and t, return true *if they are equal when both are typed into empty text editors*. '#' means a backspace character.\n",
    "\n",
    "Note that after backspacing an empty text, the text will continue empty.\n",
    "\n",
    "**Example 1:**\n",
    "\n",
    "**Input:** s = \"ab#c\", t = \"ad#c\"\n",
    "\n",
    "**Output:** true\n",
    "\n",
    "**Explanation:**\n",
    "\n",
    "Both s and t become \"ac\".\n",
    "\n",
    "</aside>"
   ]
  },
  {
   "cell_type": "code",
   "execution_count": 7,
   "id": "22001245",
   "metadata": {},
   "outputs": [
    {
     "name": "stdout",
     "output_type": "stream",
     "text": [
      "True\n"
     ]
    }
   ],
   "source": [
    "def isTypingEqualstr(s, t):\n",
    "    # Function to process the string and return the final result\n",
    "    def processString(string):\n",
    "        stack = []\n",
    "        for char in string:\n",
    "            if char == '#':\n",
    "                if stack:\n",
    "                    stack.pop()\n",
    "            else:\n",
    "                stack.append(char)\n",
    "        return ''.join(stack)\n",
    "\n",
    "    # Process both strings and compare the results\n",
    "    return processString(s) == processString(t)\n",
    "\n",
    "###Driver Code\n",
    "s = \"ab#c\"\n",
    "t = \"ad#c\"\n",
    "result = isTypingEqualstr(s, t)\n",
    "print(result)"
   ]
  },
  {
   "cell_type": "markdown",
   "id": "30eb9ba7",
   "metadata": {},
   "source": [
    "<aside>\n",
    "💡 **Question 8**\n",
    "\n",
    "You are given an array coordinates, coordinates[i] = [x, y], where [x, y] represents the coordinate of a point. Check if these points make a straight line in the XY plane.\n",
    "    \n",
    "\n",
    "**Input:** coordinates = [[1,2],[2,3],[3,4],[4,5],[5,6],[6,7]]\n",
    "\n",
    "**Output:** true\n",
    "\n",
    "</aside>"
   ]
  },
  {
   "cell_type": "code",
   "execution_count": 8,
   "id": "370e1a7c",
   "metadata": {},
   "outputs": [
    {
     "name": "stdout",
     "output_type": "stream",
     "text": [
      "True\n"
     ]
    }
   ],
   "source": [
    "def checkStraightLine(coordinates):\n",
    "    # Calculate the slope between two points (x1, y1) and (x2, y2)\n",
    "    def calculateSlope(x1, y1, x2, y2):\n",
    "        if x2 - x1 == 0:\n",
    "            return float('inf')  # Return infinity if the line is vertical\n",
    "        return (y2 - y1) / (x2 - x1)\n",
    "\n",
    "    # Check the slope between each pair of consecutive points\n",
    "    x1, y1 = coordinates[0]\n",
    "    x2, y2 = coordinates[1]\n",
    "    expected_slope = calculateSlope(x1, y1, x2, y2)\n",
    "    for i in range(2, len(coordinates)):\n",
    "        x1, y1 = coordinates[i - 1]\n",
    "        x2, y2 = coordinates[i]\n",
    "        slope = calculateSlope(x1, y1, x2, y2)\n",
    "        if slope != expected_slope:\n",
    "            return False\n",
    "\n",
    "    return True\n",
    "\n",
    "###Driver Code\n",
    "coordinates = [[1,2],[2,3],[3,4],[4,5],[5,6],[6,7]]\n",
    "result = checkStraightLine(coordinates)\n",
    "print(result)"
   ]
  },
  {
   "cell_type": "code",
   "execution_count": null,
   "id": "e82ca6dc",
   "metadata": {},
   "outputs": [],
   "source": []
  }
 ],
 "metadata": {
  "kernelspec": {
   "display_name": "Python 3 (ipykernel)",
   "language": "python",
   "name": "python3"
  },
  "language_info": {
   "codemirror_mode": {
    "name": "ipython",
    "version": 3
   },
   "file_extension": ".py",
   "mimetype": "text/x-python",
   "name": "python",
   "nbconvert_exporter": "python",
   "pygments_lexer": "ipython3",
   "version": "3.9.12"
  }
 },
 "nbformat": 4,
 "nbformat_minor": 5
}
