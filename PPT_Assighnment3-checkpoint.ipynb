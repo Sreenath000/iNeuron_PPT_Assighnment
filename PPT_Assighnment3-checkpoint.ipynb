{
 "cells": [
  {
   "cell_type": "markdown",
   "id": "202e87b4",
   "metadata": {},
   "source": [
    "Question 1\n",
    "\n",
    "Given an integer array nums of length n and an integer target, find three integers\n",
    "in nums such that the sum is closest to the target.\n",
    "Return the sum of the three integers.\n",
    "\n",
    "You may assume that each input would have exactly one solution.\n",
    "\n",
    "Example 1:\n",
    "Input: nums = [-1,2,1,-4], target = 1\n",
    "Output: 2\n",
    "\n",
    "Explanation: The sum that is closest to the target is 2. (-1 + 2 + 1 = 2)."
   ]
  },
  {
   "cell_type": "markdown",
   "id": "c72de839",
   "metadata": {},
   "source": [
    "Brute Force Approach"
   ]
  },
  {
   "cell_type": "code",
   "execution_count": 1,
   "id": "96b9e179",
   "metadata": {},
   "outputs": [
    {
     "name": "stdout",
     "output_type": "stream",
     "text": [
      "2\n"
     ]
    }
   ],
   "source": [
    "def threeSumClosest(arr, target):\n",
    "    arr.sort()\n",
    "    n = len(arr)\n",
    "    closestSum = float('inf')\n",
    "    for i in range(0,len(arr)):\n",
    "      for j in range(i+1,len(arr)):\n",
    "        for k in range(j+1,len(arr)):\n",
    "          if arr[i] + arr[j] + arr[k] == target:\n",
    "            return target\n",
    "          else:\n",
    "            current_sum = arr[i] + arr[j] + arr[k]\n",
    "            if abs(current_sum - target) < abs(closestSum -target):\n",
    "              closestSum = current_sum\n",
    "\n",
    "    return closestSum\n",
    "\n",
    "### Driver Code\n",
    "num = [-1,2,1,-4]\n",
    "targ = 1\n",
    "res = threeSumClosest(num,targ)\n",
    "print(res)"
   ]
  },
  {
   "cell_type": "markdown",
   "id": "aa9a2639",
   "metadata": {},
   "source": [
    "Optimised Approach\n",
    "\n",
    "Algorithm :\n",
    "\n",
    "Step 1 :- Sort the array in non-decreasing order\n",
    "\n",
    "Step 2 :- Initialize the variable closest sum to the positive infinity to store the closest sum which is near to the target.\n",
    "\n",
    "Step 3 :- Iterate through the array from index 0 to the n-3, where n is the length of the array.\n",
    "\n",
    "      a.Initialize the two pointers technique. Initialize the left and right variables.\n",
    "\n",
    "      b.Set left to i+1, right to n-1\n",
    "\n",
    "      c.while left is less than right do the following things,\n",
    "\n",
    "         1.Compute the current sum by adding arr[i],arr[left] and \n",
    "            arr [right].\n",
    "\n",
    "         2. If the absolute difference between the current sum and  \n",
    "            target  is smaller than the absolute difference between the\n",
    "            cloasestsum and target then update the current sum to the closest sum.\n",
    "         3. If the current sum is greater than the closest sum then \n",
    "            increment the 'left' pointer.\n",
    "         4. If the current sum is less than the closest sum then \n",
    "            increment the 'right' pointer.\n",
    "         5. If the current sum is equal to the target sum then return \n",
    "            target as a result.\n",
    "\n",
    "Step 4 :- After the iteration return the cloasest sum as a result."
   ]
  },
  {
   "cell_type": "code",
   "execution_count": 2,
   "id": "c6fc3b0d",
   "metadata": {},
   "outputs": [
    {
     "name": "stdout",
     "output_type": "stream",
     "text": [
      "2\n"
     ]
    }
   ],
   "source": [
    "\n",
    "def threeSumClosest(nums, target):\n",
    "    nums.sort()\n",
    "    n = len(nums)\n",
    "    closestSum = float('inf')\n",
    "\n",
    "    for i in range(n - 2):\n",
    "        left = i + 1\n",
    "        right = n - 1\n",
    "\n",
    "        while left < right:\n",
    "            currentSum = nums[i] + nums[left] + nums[right]\n",
    "            if currentSum == target:\n",
    "                return target\n",
    "\n",
    "            if abs(currentSum - target) < abs(closestSum - target):\n",
    "                closestSum = currentSum\n",
    "\n",
    "            if currentSum < target:\n",
    "                left += 1\n",
    "            else:\n",
    "                right -= 1\n",
    "\n",
    "    return closestSum\n",
    "\n",
    "### Driver Code\n",
    "nums1 = [-1,2,1,-4]\n",
    "target1 = 1\n",
    "res = threeSumClosest(nums1,target1)\n",
    "print(res)"
   ]
  },
  {
   "cell_type": "markdown",
   "id": "a34b31e6",
   "metadata": {},
   "source": [
    "Time Complexity is O(nˆ2)"
   ]
  },
  {
   "cell_type": "markdown",
   "id": "22e84aac",
   "metadata": {},
   "source": [
    "Question 2\n",
    "\n",
    "Given an array nums of n integers, return an array of all the unique quadruplets\n",
    "[nums[a], nums[b], nums[c], nums[d]] such that:\n",
    "\n",
    "           ● 0 <= a, b, c, d < n\n",
    "           \n",
    "           ● a, b, c, and d are distinct.\n",
    "           \n",
    "           ● nums[a] + nums[b] + nums[c] + nums[d] == target\n",
    "\n",
    "You may return the answer in any order.\n",
    "\n",
    "Example 1:\n",
    "Input: nums = [1,0,-1,0,-2,2], target = 0\n",
    "Output: [[-2,-1,1,2],[-2,0,0,2],[-1,0,0,1]]"
   ]
  },
  {
   "cell_type": "code",
   "execution_count": 3,
   "id": "cb864df2",
   "metadata": {},
   "outputs": [
    {
     "name": "stdout",
     "output_type": "stream",
     "text": [
      "[[-2, -1, 1, 2], [-2, 0, 0, 2], [-1, 0, 0, 1]]\n"
     ]
    }
   ],
   "source": [
    "def find_quadruplets(arr,target):\n",
    "  arr.sort()\n",
    "  n = len(arr)\n",
    "  list1 = []\n",
    "  closest_sum = float('inf')\n",
    "  for i in range(n-2):\n",
    "    for j in range(i+1,n-2):\n",
    "      left = j + 1\n",
    "      right = n - 1\n",
    "      while left < right:\n",
    "        current_sum = arr[i] + arr[j] + arr[left] + arr[right]\n",
    "        if current_sum == target:\n",
    "          list1.append([arr[i],arr[j],arr[left],arr[right]])\n",
    "          left += 1\n",
    "          right -= 1\n",
    "        elif current_sum < target:\n",
    "          left += 1\n",
    "        else:\n",
    "          right -= 1\n",
    "        \n",
    "  return list1\n",
    "###Driver Code\n",
    "nums = [1,0,-1,0,-2,2]\n",
    "target1 = 0\n",
    "res = find_quadruplets(nums,target1)\n",
    "print(res)"
   ]
  },
  {
   "cell_type": "markdown",
   "id": "6711d8c0",
   "metadata": {},
   "source": [
    "Time Complexity is O(nˆ3)"
   ]
  },
  {
   "cell_type": "markdown",
   "id": "c492bc0b",
   "metadata": {},
   "source": [
    "<aside>\n",
    "💡 **Question 3**\n",
    "A permutation of an array of integers is an arrangement of its members into a\n",
    "sequence or linear order.\n",
    "\n",
    "For example, for arr = [1,2,3], the following are all the permutations of arr:\n",
    "[1,2,3], [1,3,2], [2, 1, 3], [2, 3, 1], [3,1,2], [3,2,1].\n",
    "\n",
    "The next permutation of an array of integers is the next lexicographically greater\n",
    "permutation of its integer. More formally, if all the permutations of the array are\n",
    "sorted in one container according to their lexicographical order, then the next\n",
    "permutation of that array is the permutation that follows it in the sorted container.\n",
    "\n",
    "If such an arrangement is not possible, the array must be rearranged as the\n",
    "lowest possible order (i.e., sorted in ascending order).\n",
    "\n",
    "● For example, the next permutation of arr = [1,2,3] is [1,3,2].\n",
    "● Similarly, the next permutation of arr = [2,3,1] is [3,1,2].\n",
    "● While the next permutation of arr = [3,2,1] is [1,2,3] because [3,2,1] does not\n",
    "have a lexicographical larger rearrangement.\n",
    "\n",
    "Given an array of integers nums, find the next permutation of nums.\n",
    "The replacement must be in place and use only constant extra memory.\n",
    "\n",
    "**Example 1:**\n",
    "Input: nums = [1,2,3]\n",
    "Output: [1,3,2]\n",
    "\n",
    "</aside>"
   ]
  },
  {
   "cell_type": "code",
   "execution_count": 4,
   "id": "eda6d8e6",
   "metadata": {},
   "outputs": [
    {
     "name": "stdout",
     "output_type": "stream",
     "text": [
      "[1, 3, 2]\n"
     ]
    }
   ],
   "source": [
    "def NextPermutation(num):\n",
    "    n = len(num)\n",
    "    i = n - 1\n",
    "    while i > 0 and num[i - 1] >= num[i]:\n",
    "        i -= 1\n",
    "\n",
    "    if i == 0:\n",
    "        num.reverse()  \n",
    "        return\n",
    "\n",
    "    j = n - 1\n",
    "    while num[j] <= num[i - 1]:\n",
    "        j -= 1\n",
    "\n",
    "    num[i - 1], num[j] = num[j], num[i - 1]\n",
    "    num[i:] = reversed(num[i:])  \n",
    "\n",
    "num = [1, 2, 3]\n",
    "NextPermutation(num)\n",
    "print(num) "
   ]
  },
  {
   "cell_type": "markdown",
   "id": "e30d63b1",
   "metadata": {},
   "source": [
    "Time Complexity is O(n)"
   ]
  },
  {
   "cell_type": "markdown",
   "id": "50f1324c",
   "metadata": {},
   "source": [
    "Question 4\n",
    "\n",
    "Given a sorted array of distinct integers and a target value, return the index if the\n",
    "target is found. If not, return the index where it would be if it were inserted in\n",
    "order.\n",
    "\n",
    "You must write an algorithm with O(log n) runtime complexity.\n",
    "\n",
    "Example 1:\n",
    "Input: nums = [1,3,5,6], target = 5\n",
    "Output: 2"
   ]
  },
  {
   "cell_type": "code",
   "execution_count": 6,
   "id": "2f9dae24",
   "metadata": {},
   "outputs": [
    {
     "name": "stdout",
     "output_type": "stream",
     "text": [
      "1\n"
     ]
    }
   ],
   "source": [
    "def search_insert_position(nums, target):\n",
    "    left = 0\n",
    "    right = len(nums) - 1\n",
    "\n",
    "    while left <= right:\n",
    "        mid = left + (right - left) // 2\n",
    "\n",
    "        if nums[mid] == target:\n",
    "            return mid\n",
    "        elif nums[mid] < target:\n",
    "            left = mid + 1\n",
    "        else:\n",
    "            right = mid - 1\n",
    "\n",
    "    # If the target value is not found, return the index where it would be if it were inserted in order.\n",
    "    return left if nums[left] < target else right + 1\n",
    "### Driver Code\n",
    "nums = [1,3,5,6]\n",
    "target1 = 2\n",
    "res = search_insert_position(nums,target1)\n",
    "print(res)"
   ]
  },
  {
   "cell_type": "markdown",
   "id": "2a795903",
   "metadata": {},
   "source": [
    "💡 **Question 5**\n",
    "\n",
    "You are given a large integer represented as an integer array digits, where each\n",
    "digits[i] is the ith digit of the integer. The digits are ordered from most significant\n",
    "to least significant in left-to-right order. The large integer does not contain any\n",
    "leading 0's.\n",
    "\n",
    "Increment the large integer by one and return the resulting array of digits.\n",
    "\n",
    "**Example 1:**\n",
    "Input: digits = [1,2,3]\n",
    "Output: [1,2,4]\n",
    "\n",
    "**Explanation:** The array represents the integer 123.\n",
    "Incrementing by one gives 123 + 1 = 124.\n",
    "Thus, the result should be [1,2,4].\n",
    "\n",
    "</aside>"
   ]
  },
  {
   "cell_type": "code",
   "execution_count": 7,
   "id": "e18f2d99",
   "metadata": {},
   "outputs": [
    {
     "name": "stdout",
     "output_type": "stream",
     "text": [
      "[1, 2, 4]\n"
     ]
    }
   ],
   "source": [
    "def increment_array(arr):\n",
    "  n = len(arr)\n",
    "  carry = 1\n",
    "  r = n - 1\n",
    "  for i in range(r,-1,-1):\n",
    "    total = arr[i] + carry\n",
    "    arr[i] = total % 10\n",
    "\n",
    "    if total < 10:\n",
    "      carry = 0\n",
    "      break\n",
    "    else:\n",
    "      carry = 1\n",
    "  if carry == 1:\n",
    "    arr.insert(0,1)\n",
    "    \n",
    "  return arr\n",
    "###Driver Code\n",
    "digi = [1,2,3]\n",
    "res = increment_array(digi)\n",
    "print(res)"
   ]
  },
  {
   "cell_type": "markdown",
   "id": "1f6944a1",
   "metadata": {},
   "source": [
    "Time Complexity is O(n)\n",
    "\n"
   ]
  },
  {
   "cell_type": "markdown",
   "id": "a1e29652",
   "metadata": {},
   "source": [
    "Question 6\n",
    "\n",
    "Given a non-empty array of integers nums, every element appears twice except\n",
    "for one. Find that single one.\n",
    "\n",
    "You must implement a solution with a linear runtime complexity and use only\n",
    "constant extra space.\n",
    "\n",
    "Example 1:\n",
    "Input: nums = [2,2,1]\n",
    "Output: 1"
   ]
  },
  {
   "cell_type": "code",
   "execution_count": 8,
   "id": "a7db179a",
   "metadata": {},
   "outputs": [
    {
     "name": "stdout",
     "output_type": "stream",
     "text": [
      "[1]\n"
     ]
    }
   ],
   "source": [
    "def find_single_number(num):\n",
    "    num.sort()\n",
    "    n = len(num)\n",
    "    result = []\n",
    "    i = 0\n",
    "    while i < n:\n",
    "        if i == n - 1 or num[i] != num[i+1]:\n",
    "            result.append(num[i])\n",
    "        else:\n",
    "            i += 1\n",
    "        i += 1\n",
    "    return result\n",
    "\n",
    "# Driver Code\n",
    "num = [2,2,1]\n",
    "res = find_single_number(num)\n",
    "print(res)"
   ]
  },
  {
   "cell_type": "markdown",
   "id": "c2c31bb1",
   "metadata": {},
   "source": [
    "Time Complexity for above solution is O(nlogn)\n",
    "\n",
    "Space Complexity for above solution is O(1)\n",
    "\n"
   ]
  },
  {
   "cell_type": "markdown",
   "id": "9c431e5a",
   "metadata": {},
   "source": [
    "Question 7\n",
    "\n",
    "You are given an inclusive range [lower, upper] and a sorted unique integer array\n",
    "nums, where all elements are within the inclusive range.\n",
    "\n",
    "A number x is considered missing if x is in the range [lower, upper] and x is not in\n",
    "nums.\n",
    "\n",
    "Return the shortest sorted list of ranges that exactly covers all the missing\n",
    "numbers. That is, no element of nums is included in any of the ranges, and each\n",
    "missing number is covered by one of the ranges.\n",
    "\n",
    "Example 1:\n",
    "Input: nums = [0,1,3,50,75], lower = 0, upper = 99\n",
    "Output: [[2,2],[4,49],[51,74],[76,99]]\n",
    "\n",
    "Explanation: The ranges are:\n",
    "[2,2]\n",
    "[4,49]\n",
    "[51,74]\n",
    "[76,99]"
   ]
  },
  {
   "cell_type": "code",
   "execution_count": 9,
   "id": "2d8e90fe",
   "metadata": {},
   "outputs": [
    {
     "name": "stdout",
     "output_type": "stream",
     "text": [
      "[[2, 2], [4, 49], [51, 74], [76, 99]]\n"
     ]
    }
   ],
   "source": [
    "def find_range(nums, lower, upper):\n",
    "    missing_ranges = []\n",
    "    start = lower\n",
    "\n",
    "    for num in nums:\n",
    "        if num == start:\n",
    "            start += 1\n",
    "        elif num > start:\n",
    "            missing_ranges.append([start, num - 1])\n",
    "            start = num + 1\n",
    "\n",
    "    if start <= upper:\n",
    "        missing_ranges.append([start, upper])\n",
    "\n",
    "    return missing_ranges\n",
    "### Driver Code\n",
    "nums = [0, 1, 3, 50, 75]\n",
    "lower = 0\n",
    "upper = 99\n",
    "result = find_range(nums, lower, upper)\n",
    "print(result)\n"
   ]
  },
  {
   "cell_type": "markdown",
   "id": "8aa1e34f",
   "metadata": {},
   "source": [
    "Time Complexity for above solution is O(n)\n",
    "\n"
   ]
  },
  {
   "cell_type": "markdown",
   "id": "31b0dae5",
   "metadata": {},
   "source": [
    "\n",
    "💡 **Question 8**\n",
    "\n",
    "Given an array of meeting time intervals where intervals[i] = [starti, endi],\n",
    "determine if a person could attend all meetings.\n",
    "\n",
    "**Example 1:**\n",
    "Input: intervals = [[0,30],[5,10],[15,20]]\n",
    "Output: false\n",
    "\n",
    "</aside>"
   ]
  },
  {
   "cell_type": "code",
   "execution_count": 13,
   "id": "18fd679d",
   "metadata": {},
   "outputs": [
    {
     "name": "stdout",
     "output_type": "stream",
     "text": [
      "False\n"
     ]
    }
   ],
   "source": [
    "def canAttendMeetings(intervals):\n",
    "    intervals.sort(key=lambda x: x[0])  # Sort intervals based on start time\n",
    "\n",
    "    for i in range(1, len(intervals)):\n",
    "        if intervals[i][0] < intervals[i-1][1]:\n",
    "            return False\n",
    "\n",
    "    return True\n",
    "\n",
    "# Drive Code\n",
    "intervals = [[0, 30], [5, 10], [15, 20]]\n",
    "print(canAttendMeetings(intervals))"
   ]
  },
  {
   "cell_type": "code",
   "execution_count": null,
   "id": "0f5ba108",
   "metadata": {},
   "outputs": [],
   "source": []
  }
 ],
 "metadata": {
  "kernelspec": {
   "display_name": "Python 3 (ipykernel)",
   "language": "python",
   "name": "python3"
  },
  "language_info": {
   "codemirror_mode": {
    "name": "ipython",
    "version": 3
   },
   "file_extension": ".py",
   "mimetype": "text/x-python",
   "name": "python",
   "nbconvert_exporter": "python",
   "pygments_lexer": "ipython3",
   "version": "3.9.12"
  }
 },
 "nbformat": 4,
 "nbformat_minor": 5
}
