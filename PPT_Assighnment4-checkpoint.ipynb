{
 "cells": [
  {
   "cell_type": "markdown",
   "id": "b6e15af6",
   "metadata": {},
   "source": [
    "\n",
    "💡 **Question 1**\n",
    "Given three integer arrays arr1, arr2 and arr3 **sorted** in **strictly increasing** order, return a sorted array of **only** the integers that appeared in **all** three arrays.\n",
    "\n",
    "**Example 1:**\n",
    "\n",
    "Input: arr1 = [1,2,3,4,5], arr2 = [1,2,5,7,9], arr3 = [1,3,4,5,8]\n",
    "\n",
    "Output: [1,5]\n",
    "\n",
    "**Explanation:** Only 1 and 5 appeared in the three arrays.\n",
    "\n",
    "</aside>"
   ]
  },
  {
   "cell_type": "code",
   "execution_count": 1,
   "id": "b881f81f",
   "metadata": {},
   "outputs": [
    {
     "name": "stdout",
     "output_type": "stream",
     "text": [
      "[1, 5]\n"
     ]
    }
   ],
   "source": [
    "def array1(arr1,arr2,arr3):\n",
    "  arr4 = []\n",
    "  n1 = len(arr1)-1\n",
    "  n2 = len(arr2)-1\n",
    "  n3 = len(arr3)-1\n",
    "  i = 0\n",
    "  j = 0\n",
    "  k = 0\n",
    "  while ((i <= n1) and (j <= n2) and (k <= n3)):\n",
    "    if (arr1[i] == arr2[j]) and (arr2[j] == arr3[k]):\n",
    "      arr4.append(arr1[i])\n",
    "      i += 1\n",
    "      j += 1\n",
    "      k += 1\n",
    "\n",
    "    elif arr1[i] < arr2[j] :\n",
    "      i += 1\n",
    "    elif (arr1[i] == arr2[j]) and (arr2[j] < arr3[k]):\n",
    "      i += 1\n",
    "      j += 1\n",
    "    else:\n",
    "      k += 1\n",
    "\n",
    "  \n",
    "  return arr4\n",
    "### Driver Code\n",
    "arr1 = [1,2,3,4,5]\n",
    "arr2 = [1,2,5,7,9]\n",
    "arr3 = [1,3,4,5,8]\n",
    "res = array1(arr1,arr2,arr3)\n",
    "print(res)"
   ]
  },
  {
   "cell_type": "code",
   "execution_count": 2,
   "id": "92882aa1",
   "metadata": {},
   "outputs": [
    {
     "name": "stdout",
     "output_type": "stream",
     "text": [
      "[1, 5]\n"
     ]
    }
   ],
   "source": [
    "def array1(arr1,arr2,arr3,n1,n2,n3):\n",
    "  return sorted(set(arr1)&set(arr2)& set(arr3))\n",
    "### Driver Code\n",
    "arr1 = [1,2,3,4,5]\n",
    "arr2 = [1,2,5,7,9]\n",
    "arr3 = [1,3,4,5,8]\n",
    "n1 = len(arr1)\n",
    "n2 = len(arr2)\n",
    "n3 = len(arr3)\n",
    "res = array1(arr1,arr2,arr3,n1,n2,n3)\n",
    "print(res)"
   ]
  },
  {
   "cell_type": "markdown",
   "id": "095fc487",
   "metadata": {},
   "source": [
    "<aside>\n",
    "💡 **Question 2**\n",
    "\n",
    "Given two **0-indexed** integer arrays nums1 and nums2, return *a list* answer *of size* 2 *where:*\n",
    "\n",
    "- answer[0] *is a list of all **distinct** integers in* nums1 *which are **not** present in* nums2*.*\n",
    "- answer[1] *is a list of all **distinct** integers in* nums2 *which are **not** present in* nums1.\n",
    "\n",
    "**Note** that the integers in the lists may be returned in **any** order.\n",
    "\n",
    "**Example 1:**\n",
    "\n",
    "**Input:** nums1 = [1,2,3], nums2 = [2,4,6]\n",
    "\n",
    "**Output:** [[1,3],[4,6]]\n",
    "\n",
    "**Explanation:**\n",
    "\n",
    "For nums1, nums1[1] = 2 is present at index 0 of nums2, whereas nums1[0] = 1 and nums1[2] = 3 are not present in nums2. Therefore, answer[0] = [1,3].\n",
    "\n",
    "For nums2, nums2[0] = 2 is present at index 1 of nums1, whereas nums2[1] = 4 and nums2[2] = 6 are not present in nums2. Therefore, answer[1] = [4,6].\n",
    "\n",
    "</aside>"
   ]
  },
  {
   "cell_type": "code",
   "execution_count": 4,
   "id": "aedb93af",
   "metadata": {},
   "outputs": [
    {
     "name": "stdout",
     "output_type": "stream",
     "text": [
      "[[1, 3], [4, 6]]\n"
     ]
    }
   ],
   "source": [
    "\n",
    "def distin_elements(arr1,arr2):\n",
    "  set1 = set(arr1)\n",
    "  set2 = set(arr2)\n",
    "  distin_nums1 = [num for num in arr1 if num not in set2]\n",
    "  distin_nums2 = [num for num in arr2 if num not in set1]\n",
    "\n",
    "  return [distin_nums1,distin_nums2]\n",
    "\n",
    "###Driver Code\n",
    "nums1 = [1,2,3]\n",
    "nums2 = [2,4,6]\n",
    "res = distin_elements(nums1,nums2)\n",
    "print(res)"
   ]
  },
  {
   "cell_type": "markdown",
   "id": "9aea44ac",
   "metadata": {},
   "source": [
    "Time Complexity for above problem is O(m+n) \n",
    "    \n",
    "Space Complexity for above problem is O(m+n)"
   ]
  },
  {
   "cell_type": "code",
   "execution_count": 6,
   "id": "6b417978",
   "metadata": {},
   "outputs": [
    {
     "name": "stdout",
     "output_type": "stream",
     "text": [
      "[[1, 3], [4, 6]]\n"
     ]
    }
   ],
   "source": [
    "def distin_ele(arr1,arr2):\n",
    "  set1 = set(arr1)\n",
    "  set2 = set(arr2)\n",
    "  arr3 = []\n",
    "  arr4 = []\n",
    "  for num in set1:\n",
    "    if num not in set2:\n",
    "      arr3.append(num)\n",
    "      num += 1\n",
    "  for num in set2:\n",
    "    if num not in set1:\n",
    "      arr4.append(num)\n",
    "      num += 1\n",
    "  return [arr3,arr4]\n",
    "###Driver Code\n",
    "nums1 = [1,2,3]\n",
    "nums2 = [2,4,6]\n",
    "res = distin_ele(nums1,nums2)\n",
    "print(res)"
   ]
  },
  {
   "cell_type": "markdown",
   "id": "78523f36",
   "metadata": {},
   "source": [
    "<aside>\n",
    "💡 **Question 3**\n",
    "Given a 2D integer array matrix, return *the **transpose** of* matrix.\n",
    "\n",
    "The **transpose** of a matrix is the matrix flipped over its main diagonal, switching the matrix's row and column indices.\n",
    "\n",
    "**Example 1:**\n",
    "\n",
    "Input: matrix = [[1,2,3],[4,5,6],[7,8,9]]\n",
    "\n",
    "Output: [[1,4,7],[2,5,8],[3,6,9]]\n",
    "\n",
    "</aside>"
   ]
  },
  {
   "cell_type": "code",
   "execution_count": 7,
   "id": "e825eb68",
   "metadata": {},
   "outputs": [
    {
     "name": "stdout",
     "output_type": "stream",
     "text": [
      "[[1, 4, 7], [2, 5, 8], [3, 6, 9]]\n"
     ]
    }
   ],
   "source": [
    "def transpose_mat(matrix):\n",
    "  n_rows = len(matrix)\n",
    "  n_columns = len(matrix[0])\n",
    "  # Create an empty matrix with dimensions [n_columns, n_rows]\n",
    "  transpose = [[0 for _ in range(n_rows)] for _ in range(n_columns)]\n",
    "  for i in range(n_rows):\n",
    "    for j in range(n_columns):\n",
    "      # Assign the element to current row and column indices\n",
    "      # to the corresponding column and row indices in transpose matrix\n",
    "      transpose[j][i] = matrix[i][j]\n",
    "    \n",
    "  return transpose\n",
    "\n",
    "###Driver Code\n",
    "matrix = [[1,2,3],[4,5,6],[7,8,9]]\n",
    "res = transpose_mat(matrix)\n",
    "print(res)"
   ]
  },
  {
   "cell_type": "markdown",
   "id": "f0cc1e92",
   "metadata": {},
   "source": [
    "<aside>\n",
    "💡 **Question 4**\n",
    "Given an integer array nums of 2n integers, group these integers into n pairs (a1, b1), (a2, b2), ..., (an, bn) such that the sum of min(ai, bi) for all i is **maximized**. Return *the maximized sum*.\n",
    "\n",
    "**Example 1:**\n",
    "\n",
    "Input: nums = [1,4,3,2]\n",
    "\n",
    "Output: 4\n",
    "\n",
    "**Explanation:** All possible pairings (ignoring the ordering of elements) are:\n",
    "\n",
    "1. (1, 4), (2, 3) -> min(1, 4) + min(2, 3) = 1 + 2 = 3\n",
    "\n",
    "2. (1, 3), (2, 4) -> min(1, 3) + min(2, 4) = 1 + 2 = 3\n",
    "\n",
    "3. (1, 2), (3, 4) -> min(1, 2) + min(3, 4) = 1 + 3 = 4\n",
    "\n",
    "So the maximum possible sum is 4.\n",
    "\n",
    "</aside>"
   ]
  },
  {
   "cell_type": "code",
   "execution_count": 8,
   "id": "c0359b68",
   "metadata": {},
   "outputs": [
    {
     "name": "stdout",
     "output_type": "stream",
     "text": [
      "4\n"
     ]
    }
   ],
   "source": [
    "def maxi_sum(arr):\n",
    "    arr.sort() \n",
    "    maxi_sum = 0\n",
    "    arr1 =[]\n",
    "    for i in range(0, len(arr), 2):\n",
    "      arr2 = arr[i],arr[i+1]\n",
    "      maxi_sum += min(arr[i],arr[i+1])\n",
    "      arr1.append(arr2)\n",
    "    return maxi_sum\n",
    "###Driver Code\n",
    "nums = [1,4,3,2]\n",
    "res = maxi_sum(nums)\n",
    "print(res)\n",
    "     "
   ]
  },
  {
   "cell_type": "markdown",
   "id": "5939c598",
   "metadata": {},
   "source": [
    "<aside>\n",
    "💡 **Question 5**\n",
    "You have n coins and you want to build a staircase with these coins. The staircase consists of k rows where the ith row has exactly i coins. The last row of the staircase **may be** incomplete.\n",
    "\n",
    "Given the integer n, return *the number of **complete rows** of the staircase you will build*.\n",
    "\n",
    "**Example 1:**\n",
    "\n",
    "[]()\n",
    "\n",
    "![v2.jpg](https://s3-us-west-2.amazonaws.com/secure.notion-static.com/4bd91cfa-d2b1-47b3-8197-a72e8dcfff4b/v2.jpg)\n",
    "\n",
    "**Input:** n = 5\n",
    "\n",
    "**Output:** 2\n",
    "\n",
    "**Explanation:** Because the 3rd row is incomplete, we return 2.\n",
    "\n",
    "</aside>\n",
    "\n"
   ]
  },
  {
   "cell_type": "code",
   "execution_count": 9,
   "id": "0a88ee0e",
   "metadata": {},
   "outputs": [
    {
     "name": "stdout",
     "output_type": "stream",
     "text": [
      "2\n"
     ]
    }
   ],
   "source": [
    "def arrange_coin(n):\n",
    "  left = 0\n",
    "  right = n\n",
    "  while left <= right:\n",
    "    mid = (left + right) // 2\n",
    "    curr_sum = (mid * (mid + 1)) // 2\n",
    "        \n",
    "    if curr_sum <= n:\n",
    "      left = mid + 1\n",
    "    else:\n",
    "      right = mid - 1\n",
    "    \n",
    "  return right\n",
    "###Driver Code\n",
    "n = 5\n",
    "result = arrange_coin(n)\n",
    "print(result)"
   ]
  },
  {
   "cell_type": "markdown",
   "id": "6491f16f",
   "metadata": {},
   "source": [
    "<aside>\n",
    "💡 **Question 6**\n",
    "Given an integer array nums sorted in **non-decreasing** order, return *an array of **the squares of each number** sorted in non-decreasing order*.\n",
    "\n",
    "**Example 1:**\n",
    "\n",
    "Input: nums = [-4,-1,0,3,10]\n",
    "\n",
    "Output: [0,1,9,16,100]\n",
    "\n",
    "**Explanation:** After squaring, the array becomes [16,1,0,9,100].\n",
    "After sorting, it becomes [0,1,9,16,100]\n",
    "\n",
    "</aside>"
   ]
  },
  {
   "cell_type": "code",
   "execution_count": 10,
   "id": "41c2aff4",
   "metadata": {},
   "outputs": [
    {
     "name": "stdout",
     "output_type": "stream",
     "text": [
      "[0, 1, 9, 16, 100]\n"
     ]
    }
   ],
   "source": [
    "def square_arr(arr):\n",
    "  arr2 = []\n",
    "  for i in range(0,len(arr)):\n",
    "    square = arr[i]**2\n",
    "    arr2.append(square)\n",
    "    arr2.sort()\n",
    "  return arr2\n",
    "### Driver Code\n",
    "num = [-4,-1,0,3,10]\n",
    "res = square_arr(num)\n",
    "print(res)"
   ]
  },
  {
   "cell_type": "markdown",
   "id": "b4701ee8",
   "metadata": {},
   "source": [
    "<aside>\n",
    "💡 **Question 7**\n",
    "You are given an m x n matrix M initialized with all 0's and an array of operations ops, where ops[i] = [ai, bi] means M[x][y] should be incremented by one for all 0 <= x < ai and 0 <= y < bi.\n",
    "\n",
    "Count and return *the number of maximum integers in the matrix after performing all the operations*\n",
    "\n",
    "**Example 1:**\n",
    "\n",
    "![q4.jpg](https://s3-us-west-2.amazonaws.com/secure.notion-static.com/4d0890d0-7bc7-4f59-be8e-352d9f3c1c52/q4.jpg)\n",
    "\n",
    "**Input:** m = 3, n = 3, ops = [[2,2],[3,3]]\n",
    "\n",
    "**Output:** 4\n",
    "\n",
    "**Explanation:** The maximum integer in M is 2, and there are four of it in M. So return 4.\n",
    "\n",
    "</aside>"
   ]
  },
  {
   "cell_type": "code",
   "execution_count": 12,
   "id": "c552dca8",
   "metadata": {},
   "outputs": [
    {
     "name": "stdout",
     "output_type": "stream",
     "text": [
      "4\n"
     ]
    }
   ],
   "source": [
    "from typing import List\n",
    "def maxi_int(m: int,n : int,ops: List[List[int]]) -> int:\n",
    "  if not ops:\n",
    "        return m * n\n",
    "  mini_row = m\n",
    "  mini_col = n\n",
    "  for operation in ops:\n",
    "    mini_row = min(mini_row,operation[0])\n",
    "    mini_col = min(mini_col,operation[1])\n",
    "  return  mini_row * mini_col\n",
    "###Driver Code\n",
    "m = 3\n",
    "n = 3\n",
    "ops = [[2,2],[3,3]]\n",
    "res = maxi_int(m,n,ops)\n",
    "print(res)"
   ]
  },
  {
   "cell_type": "markdown",
   "id": "e1c2c875",
   "metadata": {},
   "source": [
    "<aside>\n",
    "💡 **Question 8**\n",
    "\n",
    "Given the array nums consisting of 2n elements in the form [x1,x2,...,xn,y1,y2,...,yn].\n",
    "\n",
    "*Return the array in the form* [x1,y1,x2,y2,...,xn,yn].\n",
    "\n",
    "**Example 1:**\n",
    "\n",
    "**Input:** nums = [2,5,1,3,4,7], n = 3\n",
    "\n",
    "**Output:** [2,3,5,4,1,7]\n",
    "\n",
    "**Explanation:** Since x1=2, x2=5, x3=1, y1=3, y2=4, y3=7 then the answer is [2,3,5,4,1,7].\n",
    "\n",
    "</aside>"
   ]
  },
  {
   "cell_type": "code",
   "execution_count": 13,
   "id": "1adb945f",
   "metadata": {},
   "outputs": [
    {
     "name": "stdout",
     "output_type": "stream",
     "text": [
      "[2, 3, 5, 4, 1, 7]\n"
     ]
    }
   ],
   "source": [
    "def array1(arr, n):\n",
    "    arr1 = arr[:n]\n",
    "    arr2 = arr[n:]\n",
    "    arr3 = []\n",
    "    l = 0\n",
    "    r = 0\n",
    "    while l < len(arr1) and r < len(arr2):\n",
    "        arr3.append(arr1[l])\n",
    "        arr3.append(arr2[r])\n",
    "        l += 1\n",
    "        r += 1\n",
    "    # Add any remaining elements from arr1 or arr2 if one is longer than the other\n",
    "    arr3.extend(arr1[l:])\n",
    "    arr3.extend(arr2[r:])\n",
    "    return arr3\n",
    "\n",
    "# Driver Code\n",
    "nums = [2, 5, 1, 3, 4, 7]\n",
    "n1 = 3\n",
    "res = array1(nums, n1)\n",
    "print(res)"
   ]
  },
  {
   "cell_type": "code",
   "execution_count": null,
   "id": "c8c9649f",
   "metadata": {},
   "outputs": [],
   "source": []
  }
 ],
 "metadata": {
  "kernelspec": {
   "display_name": "Python 3 (ipykernel)",
   "language": "python",
   "name": "python3"
  },
  "language_info": {
   "codemirror_mode": {
    "name": "ipython",
    "version": 3
   },
   "file_extension": ".py",
   "mimetype": "text/x-python",
   "name": "python",
   "nbconvert_exporter": "python",
   "pygments_lexer": "ipython3",
   "version": "3.9.12"
  }
 },
 "nbformat": 4,
 "nbformat_minor": 5
}
