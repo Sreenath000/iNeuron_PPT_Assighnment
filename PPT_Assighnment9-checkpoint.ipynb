{
 "cells": [
  {
   "cell_type": "markdown",
   "id": "7d5228c2",
   "metadata": {},
   "source": [
    "<aside>\n",
    "💡 **Question 1**\n",
    "\n",
    "Given an integer `n`, return *`true` if it is a power of two. Otherwise, return `false`*.\n",
    "\n",
    "An integer `n` is a power of two, if there exists an integer `x` such that `n == 2x`.\n",
    "\n",
    "**Example 1:**\n",
    "Input: n = 1 \n",
    "\n",
    "Output: true\n",
    "\n",
    "**Example 2:**\n",
    "Input: n = 16 \n",
    "\n",
    "Output: true\n",
    "\n",
    "**Example 3:**\n",
    "Input: n = 3 \n",
    "\n",
    "Output: false\n",
    "\n",
    "</aside>"
   ]
  },
  {
   "cell_type": "code",
   "execution_count": 1,
   "id": "07cda081",
   "metadata": {},
   "outputs": [
    {
     "name": "stdout",
     "output_type": "stream",
     "text": [
      "True\n"
     ]
    }
   ],
   "source": [
    "def power_of_two(n):\n",
    "  if n == 1:\n",
    "    return True\n",
    "  if n < 1 or n % 2!= 0:\n",
    "    return False\n",
    "  while n % 2 == 0:\n",
    "    n //= 2\n",
    "  return n == 1\n",
    "###Driver Code\n",
    "n = 1\n",
    "res = power_of_two(n)\n",
    "print(res)"
   ]
  },
  {
   "cell_type": "markdown",
   "id": "a7538a50",
   "metadata": {},
   "source": [
    "<aside>\n",
    "💡 **Question 2**\n",
    "\n",
    "Given a number n, find the sum of the first natural numbers.\n",
    "\n",
    "**Example 1:**\n",
    "\n",
    "Input: n = 3 \n",
    "\n",
    "Output: 6\n",
    "\n",
    "**Example 2:**\n",
    "\n",
    "Input  : 5 \n",
    "\n",
    "Output : 15\n",
    "\n",
    "</aside>"
   ]
  },
  {
   "cell_type": "code",
   "execution_count": 2,
   "id": "ac10c5f8",
   "metadata": {},
   "outputs": [
    {
     "name": "stdout",
     "output_type": "stream",
     "text": [
      "Example 1\n",
      "6\n",
      "Example 2\n",
      "15\n"
     ]
    }
   ],
   "source": [
    "def natural_numbers(n):\n",
    "  sum = 0\n",
    "  r = int(n*(n+1)/2)\n",
    "  sum = r\n",
    "  return sum\n",
    "###Driver Code\n",
    "print(\"Example 1\") \n",
    "n = 3\n",
    "res = natural_numbers(n)\n",
    "print(res)\n",
    "print(\"Example 2\")\n",
    "n1 = 5\n",
    "res1 = natural_numbers(n1)\n",
    "print(res1)"
   ]
  },
  {
   "cell_type": "markdown",
   "id": "449ac266",
   "metadata": {},
   "source": [
    "<aside>\n",
    "💡 **Question 3**\n",
    "\n",
    "****Given a positive integer, N. Find the factorial of N. \n",
    "\n",
    "**Example 1:**\n",
    "\n",
    "Input: N = 5 \n",
    "\n",
    "Output: 120\n",
    "\n",
    "**Example 2:**\n",
    "\n",
    "Input: N = 4\n",
    "\n",
    "Output: 24\n",
    "\n",
    "</aside>"
   ]
  },
  {
   "cell_type": "code",
   "execution_count": 3,
   "id": "1d55d5ac",
   "metadata": {},
   "outputs": [
    {
     "name": "stdout",
     "output_type": "stream",
     "text": [
      "####################### Test Case 1 ###############\n",
      "120\n",
      "###################### Test Case 2 ################\n",
      "3628800\n",
      "##################### Test Case 3 #################\n",
      "479001600\n"
     ]
    }
   ],
   "source": [
    "def factorial1(N):\n",
    "  if N == 0:\n",
    "    return 1\n",
    "  if N == 1:\n",
    "    return 1\n",
    "  return N * factorial1(N-1)\n",
    "###Driver Code\n",
    "print(\"####################### Test Case 1 ###############\") \n",
    "N = 5\n",
    "res = factorial1(N)\n",
    "print(res)\n",
    "print(\"###################### Test Case 2 ################\") \n",
    "N1 = 10\n",
    "res1 = factorial1(N1)\n",
    "print(res1)\n",
    "print(\"##################### Test Case 3 #################\") \n",
    "N2 = 12\n",
    "res2 = factorial1(N2)\n",
    "print(res2)"
   ]
  },
  {
   "cell_type": "markdown",
   "id": "a2284fbd",
   "metadata": {},
   "source": [
    "<aside>\n",
    "💡 **Question 4**\n",
    "\n",
    "Given a number N and a power P, the task is to find the exponent of this number raised to the given power, i.e. N^P.\n",
    "\n",
    "**Example 1 :** \n",
    "\n",
    "Input: N = 5, P = 2\n",
    "\n",
    "Output: 25\n",
    "\n",
    "**Example 2 :**\n",
    "Input: N = 2, P = 5\n",
    "\n",
    "Output: 32\n",
    "\n",
    "</aside>"
   ]
  },
  {
   "cell_type": "code",
   "execution_count": 4,
   "id": "84e44c0b",
   "metadata": {},
   "outputs": [
    {
     "name": "stdout",
     "output_type": "stream",
     "text": [
      "25\n"
     ]
    }
   ],
   "source": [
    "def exponent(n,p):\n",
    "  if p == 0:\n",
    "    return 1\n",
    "  if n == 0 :\n",
    "    return 1\n",
    "  return n ** p\n",
    "###Driver Code\n",
    "\n",
    "N = 5\n",
    "P = 2\n",
    "res = exponent(N,P)\n",
    "print(res)"
   ]
  },
  {
   "cell_type": "markdown",
   "id": "14cc1e4e",
   "metadata": {},
   "source": [
    "<aside>\n",
    "💡 **Question 5**\n",
    "\n",
    "Given an array of integers **arr**, the task is to find maximum element of that array using recursion.\n",
    "\n",
    "**Example 1:**\n",
    "\n",
    "Input: arr = {1, 4, 3, -5, -4, 8, 6};\n",
    "Output: 8\n",
    "\n",
    "**Example 2:**\n",
    "\n",
    "Input: arr = {1, 4, 45, 6, 10, -8};\n",
    "Output: 45\n",
    "\n",
    "</aside>"
   ]
  },
  {
   "cell_type": "code",
   "execution_count": 5,
   "id": "7da8896b",
   "metadata": {},
   "outputs": [
    {
     "name": "stdout",
     "output_type": "stream",
     "text": [
      "########################Test Case 1 #################\n",
      "8\n",
      "#######################Test Case 2 ##################\n",
      "45\n"
     ]
    }
   ],
   "source": [
    "def find_max_recursive(arr, n):\n",
    "    if n == 1:\n",
    "        return arr[0]\n",
    "    else:\n",
    "        return max(arr[n-1], find_max_recursive(arr, n-1))\n",
    "###Driver Code\n",
    "print(\"########################Test Case 1 #################\")\n",
    "arr = [1, 4, 3, -5, -4, 8, 6]\n",
    "n = len(arr)\n",
    "max_element = find_max_recursive(arr, n)\n",
    "print(max_element)\n",
    "print(\"#######################Test Case 2 ##################\")\n",
    "arr = [1, 4, 45, 6, 10, -8]\n",
    "n = len(arr)\n",
    "max_element = find_max_recursive(arr, n)\n",
    "print(max_element)"
   ]
  },
  {
   "cell_type": "markdown",
   "id": "c0f4cf3d",
   "metadata": {},
   "source": [
    "<aside>\n",
    "💡 **Question 6**\n",
    "\n",
    "Given first term (a), common difference (d) and a integer N of the Arithmetic Progression series, the task is to find Nth term of the series.\n",
    "\n",
    "**Example 1:**\n",
    "\n",
    "Input : a = 2 d = 1 N = 5\n",
    "Output : 6\n",
    "The 5th term of the series is : 6\n",
    "\n",
    "**Example 2:**\n",
    "\n",
    "Input : a = 5 d = 2 N = 10\n",
    "Output : 23\n",
    "The 10th term of the series is : 23\n",
    "\n",
    "</aside>"
   ]
  },
  {
   "cell_type": "code",
   "execution_count": 6,
   "id": "a59aaead",
   "metadata": {},
   "outputs": [
    {
     "name": "stdout",
     "output_type": "stream",
     "text": [
      "#########################Test Case 1 ##################\n",
      "6\n",
      "#########################Test Case 2 ##################\n",
      "23\n"
     ]
    }
   ],
   "source": [
    "def arithmetic_progression(a,d,n):\n",
    "  Tn = a+(n-1)*d\n",
    "  return Tn\n",
    "print(\"#########################Test Case 1 ##################\")\n",
    "A = 2\n",
    "D = 1\n",
    "N = 5\n",
    "res = arithmetic_progression(A,D,N)\n",
    "print(res)\n",
    "print(\"#########################Test Case 2 ##################\")\n",
    "A1 = 5\n",
    "D1 = 2\n",
    "N1 = 10\n",
    "res1 = arithmetic_progression(A1,D1,N1)\n",
    "print(res1)"
   ]
  },
  {
   "cell_type": "markdown",
   "id": "9526aec7",
   "metadata": {},
   "source": [
    "<aside>\n",
    "💡 **Question 7**\n",
    "\n",
    "Given a string S, the task is to write a program to print all permutations of a given string.\n",
    "\n",
    "**Example 1:**\n",
    "\n",
    "***Input:***\n",
    "\n",
    "*S = “ABC”*\n",
    "\n",
    "***Output:***\n",
    "\n",
    "*“ABC”, “ACB”, “BAC”, “BCA”, “CBA”, “CAB”*\n",
    "\n",
    "**Example 2:**\n",
    "\n",
    "***Input:***\n",
    "\n",
    "*S = “XY”*\n",
    "\n",
    "***Output:***\n",
    "\n",
    "*“XY”, “YX”*\n",
    "\n",
    "</aside>"
   ]
  },
  {
   "cell_type": "code",
   "execution_count": 7,
   "id": "9cde226b",
   "metadata": {},
   "outputs": [
    {
     "name": "stdout",
     "output_type": "stream",
     "text": [
      "########################### Test Case 1 ###################\n",
      "ABC\n",
      "ACB\n",
      "BAC\n",
      "BCA\n",
      "CAB\n",
      "CBA\n",
      "########################  Test Case 2 #####################\n",
      "XY\n",
      "YX\n"
     ]
    }
   ],
   "source": [
    "def permutations(s):\n",
    "    if len(s) == 1:\n",
    "        return [s]\n",
    "\n",
    "    result = []\n",
    "    for i in range(len(s)):\n",
    "        # Extract the current character\n",
    "        current = s[i]\n",
    "\n",
    "        # Generate all permutations of the remaining string\n",
    "        remaining = s[:i] + s[i+1:]\n",
    "        perms = permutations(remaining)\n",
    "\n",
    "        # Append the current character to each permutation\n",
    "        for perm in perms:\n",
    "            result.append(current + perm)\n",
    "\n",
    "    return result\n",
    "\n",
    "###Driver Code\n",
    "print(\"########################### Test Case 1 ###################\")\n",
    "s = \"ABC\"\n",
    "permutations_list = permutations(s)\n",
    "for perm in permutations_list:\n",
    "    print(perm)\n",
    "print(\"########################  Test Case 2 #####################\")\n",
    "s = \"XY\"\n",
    "permutations_list = permutations(s)\n",
    "for perm in permutations_list:\n",
    "    print(perm)"
   ]
  },
  {
   "cell_type": "markdown",
   "id": "ac066684",
   "metadata": {},
   "source": [
    "<aside>\n",
    "💡 **Question 8**\n",
    "\n",
    "Given an array, find a product of all array elements.\n",
    "\n",
    "**Example 1:**\n",
    "\n",
    "Input  : arr[] = {1, 2, 3, 4, 5}\n",
    "Output : 120\n",
    "**Example 2:**\n",
    "\n",
    "Input  : arr[] = {1, 6, 3}\n",
    "Output : 18\n",
    "\n",
    "</aside>"
   ]
  },
  {
   "cell_type": "code",
   "execution_count": 8,
   "id": "f5784971",
   "metadata": {},
   "outputs": [
    {
     "name": "stdout",
     "output_type": "stream",
     "text": [
      "##########################  Test Case 1 ##################\n",
      "120\n",
      "#########################  Test Case 2 ###################\n",
      "18\n"
     ]
    }
   ],
   "source": [
    "def arr_product(arr):\n",
    "  pro = 1\n",
    "  for i in range(0,len(arr)):\n",
    "    pro = pro * arr[i]\n",
    "    i += 1\n",
    "  return pro\n",
    "###Driver Code\n",
    "print(\"##########################  Test Case 1 ##################\")\n",
    "arr = [1,2,3,4,5]\n",
    "res = arr_product(arr)\n",
    "print(res)\n",
    "print(\"#########################  Test Case 2 ###################\")\n",
    "arr1 = [1,6,3]\n",
    "res1 = arr_product(arr1)\n",
    "print(res1)"
   ]
  },
  {
   "cell_type": "code",
   "execution_count": null,
   "id": "79d4ec9e",
   "metadata": {},
   "outputs": [],
   "source": []
  }
 ],
 "metadata": {
  "kernelspec": {
   "display_name": "Python 3 (ipykernel)",
   "language": "python",
   "name": "python3"
  },
  "language_info": {
   "codemirror_mode": {
    "name": "ipython",
    "version": 3
   },
   "file_extension": ".py",
   "mimetype": "text/x-python",
   "name": "python",
   "nbconvert_exporter": "python",
   "pygments_lexer": "ipython3",
   "version": "3.9.12"
  }
 },
 "nbformat": 4,
 "nbformat_minor": 5
}
